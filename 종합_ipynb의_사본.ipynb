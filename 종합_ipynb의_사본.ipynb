{
  "cells": [
    {
      "cell_type": "markdown",
      "metadata": {
        "id": "view-in-github",
        "colab_type": "text"
      },
      "source": [
        "<a href=\"https://colab.research.google.com/github/singclare/DataAnalysis/blob/master/%EC%A2%85%ED%95%A9_ipynb%EC%9D%98_%EC%82%AC%EB%B3%B8.ipynb\" target=\"_parent\"><img src=\"https://colab.research.google.com/assets/colab-badge.svg\" alt=\"Open In Colab\"/></a>"
      ]
    },
    {
      "cell_type": "markdown",
      "source": [
        "# EDA"
      ],
      "metadata": {
        "id": "bUwsiqJXx7D3"
      }
    },
    {
      "cell_type": "code",
      "execution_count": null,
      "metadata": {
        "id": "w5RzgGFULw9I"
      },
      "outputs": [],
      "source": [
        "import os\n",
        "import csv\n",
        "import numpy as np\n",
        "import pandas as pd\n",
        "import cv2\n",
        "import matplotlib.pyplot as plt\n",
        "import glob\n",
        "from sklearn.preprocessing import MinMaxScaler\n",
        "from PIL import Image\n",
        "import imblearn\n",
        "from imblearn import under_sampling\n",
        "import random\n",
        "import cv2\n",
        "from tqdm import tqdm\n",
        "from google.colab.patches import cv2_imshow"
      ]
    },
    {
      "cell_type": "code",
      "execution_count": null,
      "metadata": {
        "id": "2qsgjJidRZ2l"
      },
      "outputs": [],
      "source": [
        "path = \"/content/drive/MyDrive/데이터셋\"\n",
        "os.chdir(path)\n",
        "class_list = os.listdir(path)[1:21]"
      ]
    },
    {
      "cell_type": "code",
      "source": [
        "class_list = os.listdir(path)[1:21]\n",
        "classnumber = len(class_list)"
      ],
      "metadata": {
        "id": "DJYzHSj8ul2V"
      },
      "execution_count": null,
      "outputs": []
    },
    {
      "cell_type": "markdown",
      "source": [
        "#undersampling"
      ],
      "metadata": {
        "id": "wUVJczqOav4Y"
      }
    },
    {
      "cell_type": "code",
      "source": [
        "image_data = np.load('./data224_final cluster.npy')\n",
        "class_data = np.load('./data label 224_final cluster.npy')"
      ],
      "metadata": {
        "id": "8Co2HLFK3xTt"
      },
      "execution_count": null,
      "outputs": []
    },
    {
      "cell_type": "code",
      "source": [
        "data = image_data\n",
        "class_ = class_data"
      ],
      "metadata": {
        "id": "jUlgG2zBioIF"
      },
      "execution_count": null,
      "outputs": []
    },
    {
      "cell_type": "code",
      "source": [
        "import imblearn.under_sampling.base\n",
        "from imblearn.under_sampling import RandomUnderSampler\n",
        "from collections import Counter"
      ],
      "metadata": {
        "id": "dKrZy_sMavck"
      },
      "execution_count": null,
      "outputs": []
    },
    {
      "cell_type": "code",
      "source": [
        "class_data = pd.DataFrame(class_)\n",
        "class_data = class_data.reset_index(drop = False)\n",
        "class_data_x = pd.DataFrame(class_data['index'])\n",
        "class_data = class_data.drop('index',axis=1)\n",
        "# 추출한 클래스 데이터의 인덱스를 따로 저장해서 해당 인덱스의 그림 데이터를 불러오는 방식\n",
        "class_resampled, index_resampled = RandomUnderSampler(sampling_strategy = 'majority', random_state=1234).fit_resample(class_data, class_data_x)"
      ],
      "metadata": {
        "id": "x_4x9dw7jBtB"
      },
      "execution_count": null,
      "outputs": []
    },
    {
      "cell_type": "code",
      "source": [
        "index = index_resampled['index']\n",
        "data_resampled = []\n",
        "\n",
        "for i in index:\n",
        "  data_resampled.append(data[i,:,:,:])\n",
        "\n",
        "data_resampled = np.array(data_resampled)\n",
        "# 언더샘플링 된 데이터는 data_resampled 와 class_resampled에 각각 저장됨"
      ],
      "metadata": {
        "id": "3JM8BJYeWTf-"
      },
      "execution_count": null,
      "outputs": []
    },
    {
      "cell_type": "markdown",
      "source": [],
      "metadata": {
        "id": "nGfvsDTjd_tu"
      }
    },
    {
      "cell_type": "code",
      "source": [
        "image_data.shape"
      ],
      "metadata": {
        "colab": {
          "base_uri": "https://localhost:8080/"
        },
        "id": "64Edyu-yaiwA",
        "outputId": "ca63e079-5351-4b3d-a5ee-355830c78f78"
      },
      "execution_count": null,
      "outputs": [
        {
          "output_type": "execute_result",
          "data": {
            "text/plain": [
              "(23567, 224, 224, 3)"
            ]
          },
          "metadata": {},
          "execution_count": 40
        }
      ]
    },
    {
      "cell_type": "code",
      "source": [
        "data_resampled, label_resampled = RandomUnderSampler(sampling_strategy = 'majority', random_state=1234).fit_resample(image_data, label_)"
      ],
      "metadata": {
        "colab": {
          "base_uri": "https://localhost:8080/",
          "height": 193
        },
        "id": "Oc-B8dM4cscK",
        "outputId": "6a7ffb1d-eb69-40bf-d50c-b629b2d40cf5"
      },
      "execution_count": null,
      "outputs": [
        {
          "output_type": "error",
          "ename": "NameError",
          "evalue": "ignored",
          "traceback": [
            "\u001b[0;31m---------------------------------------------------------------------------\u001b[0m",
            "\u001b[0;31mNameError\u001b[0m                                 Traceback (most recent call last)",
            "\u001b[0;32m<ipython-input-41-737d86e45501>\u001b[0m in \u001b[0;36m<module>\u001b[0;34m\u001b[0m\n\u001b[0;32m----> 1\u001b[0;31m \u001b[0mdata_resampled\u001b[0m\u001b[0;34m,\u001b[0m \u001b[0mlabel_resampled\u001b[0m \u001b[0;34m=\u001b[0m \u001b[0mRandomUnderSampler\u001b[0m\u001b[0;34m(\u001b[0m\u001b[0msampling_strategy\u001b[0m \u001b[0;34m=\u001b[0m \u001b[0;34m'majority'\u001b[0m\u001b[0;34m,\u001b[0m \u001b[0mrandom_state\u001b[0m\u001b[0;34m=\u001b[0m\u001b[0;36m1234\u001b[0m\u001b[0;34m)\u001b[0m\u001b[0;34m.\u001b[0m\u001b[0mfit_resample\u001b[0m\u001b[0;34m(\u001b[0m\u001b[0mimage_data\u001b[0m\u001b[0;34m,\u001b[0m \u001b[0mlabel_\u001b[0m\u001b[0;34m)\u001b[0m\u001b[0;34m\u001b[0m\u001b[0;34m\u001b[0m\u001b[0m\n\u001b[0m",
            "\u001b[0;31mNameError\u001b[0m: name 'label_' is not defined"
          ]
        }
      ]
    },
    {
      "cell_type": "markdown",
      "source": [
        "# 기존 train-test split\n",
        "\n",
        "stratified version"
      ],
      "metadata": {
        "id": "pHDM1BlKeU7f"
      }
    },
    {
      "cell_type": "code",
      "source": [
        "import re\n",
        "\n",
        "from PIL import Image\n",
        "from sklearn.model_selection import train_test_split\n",
        "from sklearn.model_selection import StratifiedKFold\n",
        "from sklearn.preprocessing import LabelEncoder\n",
        "\n",
        "from tensorflow import keras\n",
        "from keras import layers\n",
        "from keras import Input, Model\n",
        "from keras.models import Sequential\n",
        "from keras.layers import Convolution2D, MaxPooling2D\n",
        "from keras.layers import Activation, Dropout, Flatten, Dense"
      ],
      "metadata": {
        "id": "DCYBw6Gy9w5R"
      },
      "execution_count": null,
      "outputs": []
    },
    {
      "cell_type": "code",
      "source": [
        "X_train, X_test, y_train, y_test = train_test_split(data, class_, stratify = class_)"
      ],
      "metadata": {
        "id": "UtbiwZ729h_v"
      },
      "execution_count": null,
      "outputs": []
    },
    {
      "cell_type": "code",
      "source": [
        "X_train = X_train / 255\n",
        "X_test  = X_test / 255"
      ],
      "metadata": {
        "id": "luvXzaeoaD3G"
      },
      "execution_count": null,
      "outputs": []
    },
    {
      "cell_type": "code",
      "source": [
        "# 모델 구축\n",
        "model = Sequential()\n",
        "model.add(Convolution2D(112, 2, 2, padding = 'same',\n",
        "    input_shape = X_train.shape[1:]))\n",
        "model.add(Activation('relu'))\n",
        "model.add(MaxPooling2D(pool_size=(2, 2)))\n",
        "model.add(Dropout(0.25))\n",
        "\n",
        "model.add(Convolution2D(224, 2, 2, padding='same'))\n",
        "model.add(Activation('relu'))\n",
        "model.add(Convolution2D(224, 2, 2))\n",
        "model.add(MaxPooling2D(pool_size=(2, 2), strides=(2,2), padding='same'))\n",
        "model.add(Dropout(0.25))\n",
        "\n",
        "model.add(Flatten())\n",
        "model.add(Dense(512))\n",
        "model.add(Activation('relu'))\n",
        "model.add(Dropout(0.5))\n",
        "model.add(Dense(classnumber))\n",
        "model.add(Activation('softmax'))"
      ],
      "metadata": {
        "id": "UePsI-QX94F4"
      },
      "execution_count": null,
      "outputs": []
    },
    {
      "cell_type": "code",
      "source": [
        "from keras import backend as K\n",
        "\n",
        "def recall_m(y_true, y_pred):\n",
        "    true_positives = K.sum(K.round(K.clip(y_true * y_pred, 0, 1)))\n",
        "    possible_positives = K.sum(K.round(K.clip(y_true, 0, 1)))\n",
        "    recall = true_positives / (possible_positives + K.epsilon())\n",
        "    return recall\n",
        "\n",
        "def precision_m(y_true, y_pred):\n",
        "    true_positives = K.sum(K.round(K.clip(y_true * y_pred, 0, 1)))\n",
        "    predicted_positives = K.sum(K.round(K.clip(y_pred, 0, 1)))\n",
        "    precision = true_positives / (predicted_positives + K.epsilon())\n",
        "    return precision\n",
        "\n",
        "def f1_m(y_true, y_pred):\n",
        "    precision = precision_m(y_true, y_pred)\n",
        "    recall = recall_m(y_true, y_pred)\n",
        "    return 2*((precision*recall)/(precision+recall+K.epsilon()))"
      ],
      "metadata": {
        "id": "kN8hFZZGTeWq"
      },
      "execution_count": null,
      "outputs": []
    },
    {
      "cell_type": "code",
      "source": [
        "optimizer = keras.optimizers.Adam()\n",
        "# compile the model\n",
        "model.compile(optimizer=optimizer, loss='categorical_crossentropy', metrics=['acc',f1_m,precision_m, recall_m])\n",
        "\n",
        "\n",
        "# fit the model\n",
        "history = model.fit(X_train, y_train, batch_size = 32, epochs=30)\n",
        "\n",
        "# evaluate the model\n",
        "loss, accuracy, f1_score, precision, recall = model.evaluate(X_test, y_test)"
      ],
      "metadata": {
        "id": "2WN8Gd9QqvV-"
      },
      "execution_count": null,
      "outputs": []
    },
    {
      "cell_type": "markdown",
      "source": [
        "#stratifiedfold"
      ],
      "metadata": {
        "id": "r8xnLtNOaZeM"
      }
    },
    {
      "cell_type": "code",
      "source": [
        "X_train, X_test, y_train, y_test = train_test_split(data_resampled, class_resampled, stratify = class_resampled)\n",
        "xy = (X_train, X_test, y_train, y_test)\n",
        "\n",
        "X_train = X_train.astype(\"float\") / 255\n",
        "X_test  = X_test.astype(\"float\")  / 255\n",
        "\n",
        "y_train = keras.utils.to_categorical(y_train, 20)\n",
        "y_test = keras.utils.to_categorical(y_test, 20)\n",
        "\n",
        "print('X_train shape:', X_train.shape)\n",
        "\n",
        "image_data_index = data_resampled[:,0,0,0]\n",
        "image_data_index = pd.DataFrame(image_data_index.reshape(-1,1))"
      ],
      "metadata": {
        "colab": {
          "base_uri": "https://localhost:8080/"
        },
        "id": "Qb4N7Y2GE6Ey",
        "outputId": "79d3e017-6a5c-4026-8267-d50c7bb3eb61"
      },
      "execution_count": null,
      "outputs": [
        {
          "output_type": "stream",
          "name": "stdout",
          "text": [
            "X_train shape: (1815, 224, 224, 3)\n"
          ]
        }
      ]
    },
    {
      "cell_type": "code",
      "source": [
        "# 모델 구축\n",
        "model = Sequential()\n",
        "model.add(Convolution2D(112, 3, 3, padding = 'same',\n",
        "    input_shape = X_train.shape[1:]))\n",
        "model.add(Activation('relu'))\n",
        "model.add(MaxPooling2D(pool_size=(2, 2)))\n",
        "model.add(Dropout(0.25))\n",
        "\n",
        "model.add(Convolution2D(224, 3, 3, padding='same'))\n",
        "model.add(Activation('relu'))\n",
        "model.add(Convolution2D(224, 3, 3))\n",
        "model.add(MaxPooling2D(pool_size=(2, 2), strides=(2,2), padding='same'))\n",
        "model.add(Dropout(0.25))\n",
        "\n",
        "model.add(Flatten())\n",
        "model.add(Dense(512))\n",
        "model.add(Activation('relu'))\n",
        "model.add(Dropout(0.5))\n",
        "model.add(Dense(classnumber))\n",
        "model.add(Activation('softmax'))"
      ],
      "metadata": {
        "id": "3gRMIVqgHZbV",
        "colab": {
          "base_uri": "https://localhost:8080/",
          "height": 245
        },
        "outputId": "9475f8e1-82af-4d14-8192-34a709c193b1"
      },
      "execution_count": null,
      "outputs": [
        {
          "output_type": "error",
          "ename": "NameError",
          "evalue": "ignored",
          "traceback": [
            "\u001b[0;31m---------------------------------------------------------------------------\u001b[0m",
            "\u001b[0;31mNameError\u001b[0m                                 Traceback (most recent call last)",
            "\u001b[0;32m<ipython-input-3-7225e7fb3577>\u001b[0m in \u001b[0;36m<module>\u001b[0;34m\u001b[0m\n\u001b[1;32m      1\u001b[0m \u001b[0;31m# 모델 구축\u001b[0m\u001b[0;34m\u001b[0m\u001b[0;34m\u001b[0m\u001b[0;34m\u001b[0m\u001b[0m\n\u001b[0;32m----> 2\u001b[0;31m \u001b[0mmodel\u001b[0m \u001b[0;34m=\u001b[0m \u001b[0mSequential\u001b[0m\u001b[0;34m(\u001b[0m\u001b[0;34m)\u001b[0m\u001b[0;34m\u001b[0m\u001b[0;34m\u001b[0m\u001b[0m\n\u001b[0m\u001b[1;32m      3\u001b[0m model.add(Convolution2D(112, 3, 3, padding = 'same',\n\u001b[1;32m      4\u001b[0m     input_shape = X_train.shape[1:]))\n\u001b[1;32m      5\u001b[0m \u001b[0mmodel\u001b[0m\u001b[0;34m.\u001b[0m\u001b[0madd\u001b[0m\u001b[0;34m(\u001b[0m\u001b[0mActivation\u001b[0m\u001b[0;34m(\u001b[0m\u001b[0;34m'relu'\u001b[0m\u001b[0;34m)\u001b[0m\u001b[0;34m)\u001b[0m\u001b[0;34m\u001b[0m\u001b[0;34m\u001b[0m\u001b[0m\n",
            "\u001b[0;31mNameError\u001b[0m: name 'Sequential' is not defined"
          ]
        }
      ]
    },
    {
      "cell_type": "code",
      "source": [
        "from keras import backend as K\n",
        "\n",
        "def recall_m(y_true, y_pred):\n",
        "    true_positives = K.sum(K.round(K.clip(y_true * y_pred, 0, 1)))\n",
        "    possible_positives = K.sum(K.round(K.clip(y_true, 0, 1)))\n",
        "    recall = true_positives / (possible_positives + K.epsilon())\n",
        "    return recall\n",
        "\n",
        "def precision_m(y_true, y_pred):\n",
        "    true_positives = K.sum(K.round(K.clip(y_true * y_pred, 0, 1)))\n",
        "    predicted_positives = K.sum(K.round(K.clip(y_pred, 0, 1)))\n",
        "    precision = true_positives / (predicted_positives + K.epsilon())\n",
        "    return precision\n",
        "\n",
        "def f1_m(y_true, y_pred):\n",
        "    precision = precision_m(y_true, y_pred)\n",
        "    recall = recall_m(y_true, y_pred)\n",
        "    return 2*((precision*recall)/(precision+recall+K.epsilon()))"
      ],
      "metadata": {
        "id": "Y8PkzZ5THcp1"
      },
      "execution_count": null,
      "outputs": []
    },
    {
      "cell_type": "code",
      "source": [
        "optimizer = keras.optimizers.Adam()\n",
        "skf =StratifiedKFold(n_splits = 2, random_state = None)\n",
        "cnt_iter = 0\n",
        "Fold_accuracy = []\n",
        "model.compile(optimizer=optimizer, loss='categorical_crossentropy', metrics=['acc',f1_m,precision_m, recall_m])\n",
        "\n",
        "\n",
        "for fold, (train_index, val_index) in enumerate(skf.split(image_data_index, class_resampled)):\n",
        "  \n",
        "  cnt_iter += 1\n",
        "\n",
        "  X_train, X_val, y_train, y_val = data_resampled[train_index], data_resampled[val_index], class_resampled.loc[train_index], class_resampled.loc[val_index]\n",
        "\n",
        "  y_train = keras.utils.to_categorical(y_train, 20)\n",
        "  y_val = keras.utils.to_categorical(y_val, 20)\n",
        "\n",
        "  history = model.fit(X_train, y_train, batch_size = 32, epochs=30)\n",
        "\n",
        "  loss, accuracy, f1_score, precision, recall = model.evaluate(X_val, y_val)\n",
        "  print(f'{fold+1}번째 fold의 정확도는 {accuracy}입니다')\n",
        "  Fold_accuracy.append(accuracy)"
      ],
      "metadata": {
        "id": "PjHdh1vUWTiT"
      },
      "execution_count": null,
      "outputs": []
    },
    {
      "cell_type": "code",
      "source": [
        "np.mean(Fold_accuracy)"
      ],
      "metadata": {
        "colab": {
          "base_uri": "https://localhost:8080/"
        },
        "id": "QUGTmP4_Jmlg",
        "outputId": "c47b813f-7b8a-411d-952d-c6e8d533aa0b"
      },
      "execution_count": null,
      "outputs": [
        {
          "output_type": "execute_result",
          "data": {
            "text/plain": [
              "0.4388429671525955"
            ]
          },
          "metadata": {},
          "execution_count": 47
        }
      ]
    },
    {
      "cell_type": "code",
      "source": [
        "model.predict(X_test)"
      ],
      "metadata": {
        "id": "F__WM-29GSo2"
      },
      "execution_count": null,
      "outputs": []
    },
    {
      "cell_type": "markdown",
      "source": [
        "#autoencoder"
      ],
      "metadata": {
        "id": "klwxcz8h1eiR"
      }
    },
    {
      "cell_type": "code",
      "source": [
        "import torch\n",
        "import tensorflow as tf\n",
        "from keras.layers import Conv2D, MaxPooling2D, UpSampling2D\n",
        "from keras import backend as K"
      ],
      "metadata": {
        "id": "AlZg61YD5-pI"
      },
      "execution_count": null,
      "outputs": []
    },
    {
      "cell_type": "code",
      "source": [
        "from tensorflow.keras.preprocessing.image import ImageDataGenerator\n",
        "\n",
        "skf = StratifiedKFold(n_splits = 10, random_state = 42, shuffle = True)\n",
        "idg = ImageDataGenerator(rescale = 1./255, horizontal_flip = True)\n",
        "idg2 = ImageDataGenerator(rescale = 1./255, )"
      ],
      "metadata": {
        "id": "xrPB_qyHHKXT",
        "outputId": "dc94d105-a98f-419c-fbef-680de0eb020c",
        "colab": {
          "base_uri": "https://localhost:8080/",
          "height": 241
        }
      },
      "execution_count": null,
      "outputs": [
        {
          "output_type": "error",
          "ename": "NameError",
          "evalue": "ignored",
          "traceback": [
            "\u001b[0;31m---------------------------------------------------------------------------\u001b[0m",
            "\u001b[0;31mNameError\u001b[0m                                 Traceback (most recent call last)",
            "\u001b[0;32m<ipython-input-1-33948ea8bdc8>\u001b[0m in \u001b[0;36m<module>\u001b[0;34m\u001b[0m\n\u001b[1;32m      1\u001b[0m \u001b[0;32mfrom\u001b[0m \u001b[0mtensorflow\u001b[0m\u001b[0;34m.\u001b[0m\u001b[0mkeras\u001b[0m\u001b[0;34m.\u001b[0m\u001b[0mpreprocessing\u001b[0m\u001b[0;34m.\u001b[0m\u001b[0mimage\u001b[0m \u001b[0;32mimport\u001b[0m \u001b[0mImageDataGenerator\u001b[0m\u001b[0;34m\u001b[0m\u001b[0;34m\u001b[0m\u001b[0m\n\u001b[1;32m      2\u001b[0m \u001b[0;34m\u001b[0m\u001b[0m\n\u001b[0;32m----> 3\u001b[0;31m \u001b[0mskf\u001b[0m \u001b[0;34m=\u001b[0m \u001b[0mStratifiedKFold\u001b[0m\u001b[0;34m(\u001b[0m\u001b[0mn_splits\u001b[0m \u001b[0;34m=\u001b[0m \u001b[0;36m10\u001b[0m\u001b[0;34m,\u001b[0m \u001b[0mrandom_state\u001b[0m \u001b[0;34m=\u001b[0m \u001b[0;36m42\u001b[0m\u001b[0;34m,\u001b[0m \u001b[0mshuffle\u001b[0m \u001b[0;34m=\u001b[0m \u001b[0;32mTrue\u001b[0m\u001b[0;34m)\u001b[0m\u001b[0;34m\u001b[0m\u001b[0;34m\u001b[0m\u001b[0m\n\u001b[0m\u001b[1;32m      4\u001b[0m \u001b[0midg\u001b[0m \u001b[0;34m=\u001b[0m \u001b[0mImageDataGenerator\u001b[0m\u001b[0;34m(\u001b[0m\u001b[0mrescale\u001b[0m \u001b[0;34m=\u001b[0m \u001b[0;36m1.\u001b[0m\u001b[0;34m/\u001b[0m\u001b[0;36m255\u001b[0m\u001b[0;34m,\u001b[0m \u001b[0mhorizontal_flip\u001b[0m \u001b[0;34m=\u001b[0m \u001b[0;32mTrue\u001b[0m\u001b[0;34m)\u001b[0m\u001b[0;34m\u001b[0m\u001b[0;34m\u001b[0m\u001b[0m\n\u001b[1;32m      5\u001b[0m \u001b[0midg2\u001b[0m \u001b[0;34m=\u001b[0m \u001b[0mImageDataGenerator\u001b[0m\u001b[0;34m(\u001b[0m\u001b[0mrescale\u001b[0m \u001b[0;34m=\u001b[0m \u001b[0;36m1.\u001b[0m\u001b[0;34m/\u001b[0m\u001b[0;36m255\u001b[0m\u001b[0;34m,\u001b[0m \u001b[0;34m)\u001b[0m\u001b[0;34m\u001b[0m\u001b[0;34m\u001b[0m\u001b[0m\n",
            "\u001b[0;31mNameError\u001b[0m: name 'StratifiedKFold' is not defined"
          ]
        }
      ]
    },
    {
      "cell_type": "code",
      "source": [
        "X_train, X_test, y_train, y_test = train_test_split(data, class_, train_size = 0.05, stratify = class_)"
      ],
      "metadata": {
        "id": "xi2jau5uAcsI"
      },
      "execution_count": null,
      "outputs": []
    },
    {
      "cell_type": "code",
      "source": [
        "input_img = keras.Input(shape=(224, 224, 3))\n",
        "x = layers.Conv2D(64, (3, 3), activation='relu', padding='same')(input_img)\n",
        "x = layers.Conv2D(64, (3, 3), activation='relu', padding='same')(x)\n",
        "x = layers.MaxPooling2D((2, 2), strides=(2,2))(x)\n",
        "\n",
        "x = layers.Conv2D(128, (3, 3), activation='relu', padding='same')(x)\n",
        "x = layers.Conv2D(128, (3, 3), activation='relu', padding='same')(x)\n",
        "x = layers.MaxPooling2D((2, 2), strides=(2,2))(x)\n",
        "\n",
        "x = layers.Conv2D(256, (3, 3), activation='relu', padding='same')(x)\n",
        "x = layers.Conv2D(256, (3, 3), activation='relu', padding='same')(x)\n",
        "x = layers.Conv2D(256, (3, 3), activation='relu', padding='same')(x)\n",
        "x = layers.MaxPooling2D((2, 2), strides=(2,2))(x)\n",
        "\n",
        "x = layers.Conv2D(512, (3, 3), activation='relu', padding='same')(x)\n",
        "x = layers.Conv2D(512, (3, 3), activation='relu', padding='same')(x)\n",
        "x = layers.Conv2D(512, (3, 3), activation='relu', padding='same')(x)\n",
        "x = layers.MaxPooling2D((2, 2), strides=(2,2))(x)\n",
        "\n",
        "x = layers.Conv2D(512, (3, 3), activation='relu', padding='same')(x)\n",
        "x = layers.Conv2D(512, (3, 3), activation='relu', padding='same')(x)\n",
        "x = layers.Conv2D(512, (3, 3), activation='relu', padding='same')(x)\n",
        "encoded = layers.MaxPooling2D((2, 2), strides=(2,2))(x)\n",
        "print(encoded.shape)\n",
        "\n",
        "# (7, 7, 512)\n",
        "\n",
        "x = layers.Conv2D(512, (3, 3), activation='relu', padding='same')(encoded)\n",
        "x = layers.Conv2D(512, (3, 3), activation='relu', padding='same')(x)\n",
        "x = layers.Conv2D(512, (3, 3), activation='relu', padding='same')(x)\n",
        "x = layers.UpSampling2D((2, 2))(x)\n",
        "\n",
        "x = layers.Conv2D(512, (3, 3), activation='relu', padding='same')(x)\n",
        "x = layers.Conv2D(512, (3, 3), activation='relu', padding='same')(x)\n",
        "x = layers.Conv2D(512, (3, 3), activation='relu', padding='same')(x)\n",
        "x = layers.UpSampling2D((2, 2))(x)\n",
        "\n",
        "x = layers.Conv2D(256, (3, 3), activation='relu', padding='same')(x)\n",
        "x = layers.Conv2D(256, (3, 3), activation='relu', padding='same')(x)\n",
        "x = layers.Conv2D(256, (3, 3), activation='relu', padding='same')(x)\n",
        "x = layers.UpSampling2D((2, 2))(x)\n",
        "\n",
        "x = layers.Conv2D(128, (3, 3), activation='relu', padding='same')(x)\n",
        "x = layers.Conv2D(128, (3, 3), activation='relu', padding='same')(x)\n",
        "x = layers.UpSampling2D((2, 2))(x)\n",
        "\n",
        "x = layers.Conv2D(64, (3, 3), activation='relu', padding='same')(x)\n",
        "x = layers.Conv2D(64, (3, 3), activation='relu', padding='same')(x)\n",
        "x = layers.UpSampling2D((2, 2))(x)\n",
        "print(x.shape)\n",
        "\n",
        "decoded = layers.Conv2D(3, (3, 3), activation='sigmoid', padding='same')(x)\n",
        "print(decoded.shape)\n",
        "\n",
        "autoencoder = keras.Model(input_img, decoded)\n",
        "autoencoder.compile(optimizer='adam', loss='binary_crossentropy')"
      ],
      "metadata": {
        "id": "e9rEfquaGb-U",
        "colab": {
          "base_uri": "https://localhost:8080/"
        },
        "outputId": "f6d9d397-19a3-4daf-f15d-098d30e9ef73"
      },
      "execution_count": null,
      "outputs": [
        {
          "output_type": "stream",
          "name": "stdout",
          "text": [
            "(None, 7, 7, 512)\n",
            "(None, 224, 224, 64)\n",
            "(None, 224, 224, 3)\n"
          ]
        }
      ]
    },
    {
      "cell_type": "code",
      "source": [
        "X_train.shape"
      ],
      "metadata": {
        "colab": {
          "base_uri": "https://localhost:8080/"
        },
        "id": "1moMmIvNZSgV",
        "outputId": "125fb8ee-f509-4d2f-d034-a297b83edd55"
      },
      "execution_count": null,
      "outputs": [
        {
          "output_type": "execute_result",
          "data": {
            "text/plain": [
              "(1178, 224, 224, 3)"
            ]
          },
          "metadata": {},
          "execution_count": 27
        }
      ]
    },
    {
      "cell_type": "markdown",
      "source": [
        "# 64 하이퍼파라미터 조정"
      ],
      "metadata": {
        "id": "5NkP2flawTfc"
      }
    },
    {
      "cell_type": "code",
      "source": [
        "from google.colab import drive\n",
        "drive.mount('/content/drive')"
      ],
      "metadata": {
        "colab": {
          "base_uri": "https://localhost:8080/"
        },
        "id": "LGbMuC_3wXf9",
        "outputId": "165b0bab-50d4-46bb-b912-b698a2ace9bf"
      },
      "execution_count": null,
      "outputs": [
        {
          "output_type": "stream",
          "name": "stdout",
          "text": [
            "Drive already mounted at /content/drive; to attempt to forcibly remount, call drive.mount(\"/content/drive\", force_remount=True).\n"
          ]
        }
      ]
    },
    {
      "cell_type": "code",
      "source": [
        "import os\n",
        "import csv\n",
        "import numpy as np\n",
        "import pandas as pd\n",
        "import cv2\n",
        "import matplotlib.pyplot as plt\n",
        "import glob\n",
        "from sklearn.preprocessing import MinMaxScaler\n",
        "from PIL import Image\n",
        "\n",
        "import re\n",
        "import imblearn\n",
        "from imblearn import under_sampling\n",
        "\n",
        "import random\n",
        "import cv2\n",
        "from tqdm import tqdm\n",
        "from google.colab.patches import cv2_imshow\n",
        "from sklearn.cluster import KMeans\n",
        "from sklearn.cluster import AgglomerativeClustering\n",
        "\n",
        "import re\n",
        "\n",
        "from PIL import Image\n",
        "from sklearn.model_selection import train_test_split\n",
        "from sklearn.model_selection import StratifiedKFold\n",
        "from sklearn.preprocessing import LabelEncoder\n",
        "\n",
        "from tensorflow import keras\n",
        "from keras import layers\n",
        "from keras import Input, Model\n",
        "from keras.models import Sequential\n",
        "from keras.layers import Convolution2D, MaxPooling2D\n",
        "from keras.layers import Activation, Dropout, Flatten, Dense"
      ],
      "metadata": {
        "id": "Zx7gQllYwayc"
      },
      "execution_count": null,
      "outputs": []
    },
    {
      "cell_type": "code",
      "source": [
        "path = \"/content/drive/MyDrive/데이터셋\"\n",
        "os.chdir(path)\n",
        "class_list = os.listdir(path)[1:21]"
      ],
      "metadata": {
        "id": "fKInmIgywduo"
      },
      "execution_count": null,
      "outputs": []
    },
    {
      "cell_type": "code",
      "source": [
        "totaldata = pd.read_csv('under sample_cluster_image_path and label.csv', usecols=[1,2])"
      ],
      "metadata": {
        "id": "FuXDJmfv_iUv"
      },
      "execution_count": null,
      "outputs": []
    },
    {
      "cell_type": "code",
      "source": [
        "from tensorflow.keras.preprocessing.image import ImageDataGenerator\n",
        "\n",
        "skf = StratifiedKFold(n_splits = 10, random_state = 42, shuffle = True)\n",
        "idg = ImageDataGenerator(rescale = 1./255, horizontal_flip = True)\n",
        "idg2 = ImageDataGenerator(rescale = 1./255, )"
      ],
      "metadata": {
        "id": "eYVtP5wWFlY1"
      },
      "execution_count": null,
      "outputs": []
    },
    {
      "cell_type": "code",
      "source": [
        "totaldata = totaldata.astype({'label' : 'str'})\n",
        "from sklearn.cluster import KMeans\n",
        "\n",
        "from imblearn.under_sampling import *\n",
        "for train_index, test_index in skf.split(totaldata, totaldata['label']):\n",
        " \n",
        "    training_set = totaldata.iloc[train_index]\n",
        "    validation_set = totaldata.iloc[test_index]\n",
        "\n",
        "    undersample = RandomUnderSampler(sampling_strategy='majority')\n",
        "    X_under, y_under = undersample.fit_resample(training_set, training_set['label'])\n",
        "    X_under, y_under = undersample.fit_resample(X_under, y_under)\n",
        "    X_under, y_under = undersample.fit_resample(X_under, y_under)\n",
        "    X_under, y_under = undersample.fit_resample(X_under, y_under)\n",
        "\n",
        "    resampled_training_set = X_under\n",
        "\n",
        "    train_data_generator = idg.flow_from_dataframe(resampled_training_set, x_col = \"path\", y_col = \"label\", color_mode='rgb',\n",
        "                                                   target_size = (64, 64), class_mode='categorical', batch_size=64, shuffle=True)\n",
        "    valid_data_generator = idg.flow_from_dataframe(validation_set, x_col = \"path\", y_col = \"label\", color_mode='rgb',\n",
        "                                                   target_size = (64, 64), class_mode='categorical', batch_size=64, shuffle=True)"
      ],
      "metadata": {
        "id": "v8LA5FObFyeV"
      },
      "execution_count": null,
      "outputs": []
    },
    {
      "cell_type": "code",
      "source": [
        "# 모델 구축\n",
        "model = Sequential()\n",
        "model.add(Convolution2D(32, 2, 2, padding = 'same',\n",
        "    input_shape = (64,64,3)))\n",
        "model.add(Activation('relu'))\n",
        "model.add(MaxPooling2D(pool_size=(2, 2)))\n",
        "model.add(Dropout(0.25))\n",
        "\n",
        "model.add(Convolution2D(64, 2, 2, padding='same'))\n",
        "model.add(Activation('relu'))\n",
        "model.add(Convolution2D(64, 2, 2))\n",
        "model.add(MaxPooling2D(pool_size=(2, 2), strides=(2,2), padding='same'))\n",
        "model.add(Dropout(0.25))\n",
        "\n",
        "model.add(Flatten())\n",
        "model.add(Dense(512))\n",
        "model.add(Activation('relu'))\n",
        "model.add(Dropout(0.5))\n",
        "model.add(Dense(classnumber))\n",
        "model.add(Activation('softmax'))"
      ],
      "metadata": {
        "id": "jPQc4k0xGSwx"
      },
      "execution_count": null,
      "outputs": []
    },
    {
      "cell_type": "code",
      "source": [
        "from keras import backend as K\n",
        "\n",
        "def recall_m(y_true, y_pred):\n",
        "    true_positives = K.sum(K.round(K.clip(y_true * y_pred, 0, 1)))\n",
        "    possible_positives = K.sum(K.round(K.clip(y_true, 0, 1)))\n",
        "    recall = true_positives / (possible_positives + K.epsilon())\n",
        "    return recall\n",
        "\n",
        "def precision_m(y_true, y_pred):\n",
        "    true_positives = K.sum(K.round(K.clip(y_true * y_pred, 0, 1)))\n",
        "    predicted_positives = K.sum(K.round(K.clip(y_pred, 0, 1)))\n",
        "    precision = true_positives / (predicted_positives + K.epsilon())\n",
        "    return precision\n",
        "\n",
        "def f1_m(y_true, y_pred):\n",
        "    precision = precision_m(y_true, y_pred)\n",
        "    recall = recall_m(y_true, y_pred)\n",
        "    return 2*((precision*recall)/(precision+recall+K.epsilon()))"
      ],
      "metadata": {
        "id": "bY60pgJMGfba"
      },
      "execution_count": null,
      "outputs": []
    },
    {
      "cell_type": "code",
      "source": [
        "optimizer = keras.optimizers.Adam()\n",
        "# compile the model\n",
        "model.compile(optimizer=optimizer, loss='categorical_crossentropy', metrics=['acc',f1_m,precision_m, recall_m])\n",
        "\n",
        "\n",
        "# fit the model\n",
        "history = model.fit_generator(train_data_generator, epochs=30)\n",
        "\n",
        "# evaluate the model\n",
        "loss, accuracy, f1_score, precision, recall = model.evaluate(X_test, y_test)"
      ],
      "metadata": {
        "colab": {
          "base_uri": "https://localhost:8080/"
        },
        "id": "SOwCxL5WGpcC",
        "outputId": "fad403ed-04e0-4534-9f3f-96a4e60746e8"
      },
      "execution_count": null,
      "outputs": [
        {
          "output_type": "stream",
          "name": "stderr",
          "text": [
            "/usr/local/lib/python3.7/dist-packages/ipykernel_launcher.py:7: UserWarning: `Model.fit_generator` is deprecated and will be removed in a future version. Please use `Model.fit`, which supports generators.\n",
            "  import sys\n"
          ]
        },
        {
          "output_type": "stream",
          "name": "stdout",
          "text": [
            "Epoch 1/30\n",
            "95/95 [==============================] - 1559s 16s/step - loss: 2.8775 - acc: 0.0992 - f1_m: 0.0000e+00 - precision_m: 0.0000e+00 - recall_m: 0.0000e+00\n",
            "Epoch 2/30\n",
            "68/95 [====================>.........] - ETA: 54s - loss: 2.8161 - acc: 0.1143 - f1_m: 9.0498e-04 - precision_m: 0.0294 - recall_m: 4.5956e-04"
          ]
        }
      ]
    }
  ],
  "metadata": {
    "colab": {
      "provenance": [],
      "collapsed_sections": [
        "wUVJczqOav4Y",
        "r8xnLtNOaZeM",
        "klwxcz8h1eiR"
      ],
      "machine_shape": "hm",
      "mount_file_id": "14PWz93Rz5B3y4B0033W7LjYTmq_-rp0V",
      "authorship_tag": "ABX9TyNcNg3UYOeDUBQLMp/+sip7",
      "include_colab_link": true
    },
    "kernelspec": {
      "display_name": "Python 3",
      "name": "python3"
    },
    "language_info": {
      "name": "python"
    }
  },
  "nbformat": 4,
  "nbformat_minor": 0
}