{
  "cells": [
    {
      "cell_type": "markdown",
      "metadata": {
        "id": "view-in-github",
        "colab_type": "text"
      },
      "source": [
        "<a href=\"https://colab.research.google.com/github/singclare/DataAnalysis/blob/master/%EB%8D%B0%ED%81%AC%EC%BA%A0_22_%EC%98%88%EC%84%A0.ipynb\" target=\"_parent\"><img src=\"https://colab.research.google.com/assets/colab-badge.svg\" alt=\"Open In Colab\"/></a>"
      ]
    },
    {
      "cell_type": "markdown",
      "metadata": {
        "id": "k1wi1nUVBhPY"
      },
      "source": [
        "# Drive Mount, Import Library, Metadata Csv"
      ]
    },
    {
      "cell_type": "code",
      "execution_count": null,
      "metadata": {
        "colab": {
          "base_uri": "https://localhost:8080/"
        },
        "id": "nYYLRZ6c53ze",
        "outputId": "c4123e65-3cdb-4736-eb7a-756c5d7d2373"
      },
      "outputs": [
        {
          "name": "stdout",
          "output_type": "stream",
          "text": [
            "Mounted at /content/drive\n"
          ]
        }
      ],
      "source": [
        "from google.colab import drive\n",
        "drive.mount('/content/drive')"
      ]
    },
    {
      "cell_type": "code",
      "execution_count": null,
      "metadata": {
        "id": "DS05LCv2AeL1"
      },
      "outputs": [],
      "source": [
        "import os\n",
        "import csv\n",
        "import numpy as np\n",
        "import pandas as pd\n",
        "import cv2\n",
        "import matplotlib.pyplot as plt\n",
        "import glob\n",
        "from sklearn.preprocessing import MinMaxScaler\n",
        "from PIL import Image\n"
      ]
    },
    {
      "cell_type": "code",
      "execution_count": null,
      "metadata": {
        "id": "l0SZPiDHAarm"
      },
      "outputs": [],
      "source": [
        "os.getcwd()\n",
        "os.chdir(\"/content/drive/MyDrive/데이터 공모전\")"
      ]
    },
    {
      "cell_type": "code",
      "execution_count": null,
      "metadata": {
        "colab": {
          "base_uri": "https://localhost:8080/",
          "height": 400
        },
        "id": "jzdhdS5XmEi9",
        "outputId": "c92f2933-17f7-473f-e2ef-2649948107d4"
      },
      "outputs": [
        {
          "ename": "KeyboardInterrupt",
          "evalue": "ignored",
          "output_type": "error",
          "traceback": [
            "\u001b[0;31m---------------------------------------------------------------------------\u001b[0m",
            "\u001b[0;31mKeyboardInterrupt\u001b[0m                         Traceback (most recent call last)",
            "\u001b[0;32m<ipython-input-4-7cdaf9ae7993>\u001b[0m in \u001b[0;36m<module>\u001b[0;34m\u001b[0m\n\u001b[1;32m     14\u001b[0m \u001b[0;32mif\u001b[0m \u001b[0m__name__\u001b[0m \u001b[0;34m==\u001b[0m \u001b[0;34m\"__main__\"\u001b[0m\u001b[0;34m:\u001b[0m\u001b[0;34m\u001b[0m\u001b[0;34m\u001b[0m\u001b[0m\n\u001b[1;32m     15\u001b[0m     \u001b[0mroot_dir\u001b[0m \u001b[0;34m=\u001b[0m \u001b[0;34m\"./데이터셋/\"\u001b[0m\u001b[0;34m\u001b[0m\u001b[0;34m\u001b[0m\u001b[0m\n\u001b[0;32m---> 16\u001b[0;31m     \u001b[0mprint_files_in_dir\u001b[0m\u001b[0;34m(\u001b[0m\u001b[0mroot_dir\u001b[0m\u001b[0;34m,\u001b[0m \u001b[0;34m\"\"\u001b[0m\u001b[0;34m)\u001b[0m\u001b[0;34m\u001b[0m\u001b[0;34m\u001b[0m\u001b[0m\n\u001b[0m\u001b[1;32m     17\u001b[0m \u001b[0;34m\u001b[0m\u001b[0m\n\u001b[1;32m     18\u001b[0m \u001b[0;31m# if __name__ == \"__main__\" 구문\u001b[0m\u001b[0;34m\u001b[0m\u001b[0;34m\u001b[0m\u001b[0;34m\u001b[0m\u001b[0m\n",
            "\u001b[0;32m<ipython-input-4-7cdaf9ae7993>\u001b[0m in \u001b[0;36mprint_files_in_dir\u001b[0;34m(root_dir, prefix)\u001b[0m\n\u001b[1;32m      7\u001b[0m         \u001b[0mpath\u001b[0m \u001b[0;34m=\u001b[0m \u001b[0mos\u001b[0m\u001b[0;34m.\u001b[0m\u001b[0mpath\u001b[0m\u001b[0;34m.\u001b[0m\u001b[0mjoin\u001b[0m\u001b[0;34m(\u001b[0m\u001b[0mroot_dir\u001b[0m\u001b[0;34m,\u001b[0m \u001b[0mfile\u001b[0m\u001b[0;34m)\u001b[0m \u001b[0;31m# 경로 리턴\u001b[0m\u001b[0;34m\u001b[0m\u001b[0;34m\u001b[0m\u001b[0m\n\u001b[1;32m      8\u001b[0m         \u001b[0;32mif\u001b[0m \u001b[0mos\u001b[0m\u001b[0;34m.\u001b[0m\u001b[0mpath\u001b[0m\u001b[0;34m.\u001b[0m\u001b[0misdir\u001b[0m\u001b[0;34m(\u001b[0m\u001b[0mpath\u001b[0m\u001b[0;34m)\u001b[0m\u001b[0;34m:\u001b[0m \u001b[0;31m# 파일이 아니라 디렉토리인 경우\u001b[0m\u001b[0;34m\u001b[0m\u001b[0;34m\u001b[0m\u001b[0m\n\u001b[0;32m----> 9\u001b[0;31m             \u001b[0mprint_files_in_dir\u001b[0m\u001b[0;34m(\u001b[0m\u001b[0mpath\u001b[0m\u001b[0;34m,\u001b[0m \u001b[0mprefix\u001b[0m \u001b[0;34m+\u001b[0m \u001b[0;34m\"    \"\u001b[0m\u001b[0;34m)\u001b[0m \u001b[0;31m# 하위 파일에 대해 재실행(접두사 포함)\u001b[0m\u001b[0;34m\u001b[0m\u001b[0;34m\u001b[0m\u001b[0m\n\u001b[0m\u001b[1;32m     10\u001b[0m         \u001b[0;32melse\u001b[0m\u001b[0;34m:\u001b[0m\u001b[0;34m\u001b[0m\u001b[0;34m\u001b[0m\u001b[0m\n\u001b[1;32m     11\u001b[0m           \u001b[0mext\u001b[0m \u001b[0;34m=\u001b[0m \u001b[0mos\u001b[0m\u001b[0;34m.\u001b[0m\u001b[0mpath\u001b[0m\u001b[0;34m.\u001b[0m\u001b[0msplitext\u001b[0m\u001b[0;34m(\u001b[0m\u001b[0mpath\u001b[0m\u001b[0;34m)\u001b[0m\u001b[0;34m[\u001b[0m\u001b[0;34m-\u001b[0m\u001b[0;36m1\u001b[0m\u001b[0;34m]\u001b[0m \u001b[0;31m# 파일 이름, 확장자 분리\u001b[0m\u001b[0;34m\u001b[0m\u001b[0;34m\u001b[0m\u001b[0m\n",
            "\u001b[0;32m<ipython-input-4-7cdaf9ae7993>\u001b[0m in \u001b[0;36mprint_files_in_dir\u001b[0;34m(root_dir, prefix)\u001b[0m\n\u001b[1;32m      3\u001b[0m \u001b[0;34m\u001b[0m\u001b[0m\n\u001b[1;32m      4\u001b[0m \u001b[0;32mdef\u001b[0m \u001b[0mprint_files_in_dir\u001b[0m\u001b[0;34m(\u001b[0m\u001b[0mroot_dir\u001b[0m\u001b[0;34m,\u001b[0m \u001b[0mprefix\u001b[0m\u001b[0;34m)\u001b[0m\u001b[0;34m:\u001b[0m\u001b[0;34m\u001b[0m\u001b[0;34m\u001b[0m\u001b[0m\n\u001b[0;32m----> 5\u001b[0;31m     \u001b[0mfiles\u001b[0m \u001b[0;34m=\u001b[0m \u001b[0mos\u001b[0m\u001b[0;34m.\u001b[0m\u001b[0mlistdir\u001b[0m\u001b[0;34m(\u001b[0m\u001b[0mroot_dir\u001b[0m\u001b[0;34m)\u001b[0m\u001b[0;34m\u001b[0m\u001b[0;34m\u001b[0m\u001b[0m\n\u001b[0m\u001b[1;32m      6\u001b[0m     \u001b[0;32mfor\u001b[0m \u001b[0mfile\u001b[0m \u001b[0;32min\u001b[0m \u001b[0mfiles\u001b[0m\u001b[0;34m:\u001b[0m\u001b[0;34m\u001b[0m\u001b[0;34m\u001b[0m\u001b[0m\n\u001b[1;32m      7\u001b[0m         \u001b[0mpath\u001b[0m \u001b[0;34m=\u001b[0m \u001b[0mos\u001b[0m\u001b[0;34m.\u001b[0m\u001b[0mpath\u001b[0m\u001b[0;34m.\u001b[0m\u001b[0mjoin\u001b[0m\u001b[0;34m(\u001b[0m\u001b[0mroot_dir\u001b[0m\u001b[0;34m,\u001b[0m \u001b[0mfile\u001b[0m\u001b[0;34m)\u001b[0m \u001b[0;31m# 경로 리턴\u001b[0m\u001b[0;34m\u001b[0m\u001b[0;34m\u001b[0m\u001b[0m\n",
            "\u001b[0;31mKeyboardInterrupt\u001b[0m: "
          ]
        }
      ],
      "source": [
        "path_list = []\n",
        "\n",
        "\n",
        "def print_files_in_dir(root_dir, prefix):\n",
        "    files = os.listdir(root_dir)\n",
        "    for file in files:\n",
        "        path = os.path.join(root_dir, file) # 경로 리턴\n",
        "        if os.path.isdir(path): # 파일이 아니라 디렉토리인 경우\n",
        "            print_files_in_dir(path, prefix + \"    \") # 하위 파일에 대해 재실행(접두사 포함)\n",
        "        else:\n",
        "          ext = os.path.splitext(path)[-1] # 파일 이름, 확장자 분리\n",
        "          path_list.append(path) # 위 확장자 파일인 경우 list에 추가\n",
        "\n",
        "if __name__ == \"__main__\":\n",
        "    root_dir = \"./데이터셋/\"\n",
        "    print_files_in_dir(root_dir, \"\")\n",
        "\n",
        "# if __name__ == \"__main__\" 구문\n",
        "# C언어나 자바 등은 main()을 시작으로 프로그램을 실행시키나 파이썬에는 그런 기능이 없다.\n",
        "# 파이썬은 들여쓰기되지 않은 명령부터 실행하도록 되어 있으므로 별도의 작업이 필요하다.\n",
        "# 해당 스크립트 파일이 메인으로 사용되는지, 모듈로 사용되는지 구분하기 위함이다.\n",
        "\n",
        "# 예를 들어, 다른 스크립트를 실행하고 이 함수를 import하는 경우 __name__은 __main__이 아니라 다른 이름이다.\n",
        "# 오직 이 스크립트를 IDE에서 직접 메인으로 실행할 때만 이 함수가 작동하게 만드는 원리이다."
      ]
    },
    {
      "cell_type": "code",
      "execution_count": null,
      "metadata": {
        "id": "XrJjUFosmHKK"
      },
      "outputs": [],
      "source": [
        "totaldata = pd.DataFrame(path_list, columns = [\"path\"])\n",
        "totaldata['class'] = totaldata['path'].str.extract('(L2_\\d{0,2})')\n",
        "totaldata['class'] = totaldata['class'].str.slice_replace(start = 0, stop = 3, repl = \"\")"
      ]
    },
    {
      "cell_type": "code",
      "execution_count": null,
      "metadata": {
        "id": "F0r2EBFUs1oO"
      },
      "outputs": [],
      "source": [
        "totaldata.to_csv(\"totaldata.csv\")"
      ]
    },
    {
      "cell_type": "code",
      "execution_count": null,
      "metadata": {
        "id": "HMxNyvxTs4V-"
      },
      "outputs": [],
      "source": [
        "totaldata = pd.read_csv(\"totaldata.csv\")\n",
        "totaldata = totaldata[['path', 'class']]\n",
        "totaldata = totaldata.astype({'class' : 'str'})"
      ]
    },
    {
      "cell_type": "code",
      "execution_count": null,
      "metadata": {
        "id": "MzmUsvVY0-_m"
      },
      "outputs": [],
      "source": [
        "totaldata"
      ]
    },
    {
      "cell_type": "markdown",
      "metadata": {
        "id": "yqmwGHvVCCDT"
      },
      "source": [
        "# Simple EDA"
      ]
    },
    {
      "cell_type": "code",
      "execution_count": null,
      "metadata": {
        "colab": {
          "base_uri": "https://localhost:8080/"
        },
        "id": "3jF7Yu1kCJom",
        "outputId": "8bd11d97-f8fc-4038-c6d5-e344e2c1703e"
      },
      "outputs": [
        {
          "name": "stdout",
          "output_type": "stream",
          "text": [
            "<class 'pandas.core.frame.DataFrame'>\n",
            "RangeIndex: 25503 entries, 0 to 25502\n",
            "Data columns (total 2 columns):\n",
            " #   Column  Non-Null Count  Dtype \n",
            "---  ------  --------------  ----- \n",
            " 0   path    25503 non-null  object\n",
            " 1   class   25503 non-null  int64 \n",
            "dtypes: int64(1), object(1)\n",
            "memory usage: 398.6+ KB\n"
          ]
        }
      ],
      "source": [
        "totaldata.info()\n",
        "# class가 object 타입"
      ]
    },
    {
      "cell_type": "code",
      "execution_count": null,
      "metadata": {
        "id": "X789AInQCIti"
      },
      "outputs": [],
      "source": [
        "totaldata = totaldata.astype({'class' : 'int64'})\n",
        "totaldata = totaldata.sort_values('class', ascending = True)\n",
        "class_list = totaldata['class']"
      ]
    },
    {
      "cell_type": "code",
      "execution_count": null,
      "metadata": {
        "colab": {
          "base_uri": "https://localhost:8080/",
          "height": 287
        },
        "id": "sIBZVmEGCLVA",
        "outputId": "27b3d078-55a1-48a9-bac3-04cc3b4ff4b7"
      },
      "outputs": [
        {
          "data": {
            "text/plain": [
              "<matplotlib.image.AxesImage at 0x7fe60a0e0790>"
            ]
          },
          "execution_count": 88,
          "metadata": {},
          "output_type": "execute_result"
        },
        {
          "data": {
            "image/png": "[encoded data removed]",
            "text/plain": [
              "<Figure size 432x288 with 1 Axes>"
            ]
          },
          "metadata": {},
          "output_type": "display_data"
        }
      ],
      "source": [
        "image1 = plt.imread(totaldata.loc[0,'path'])\n",
        "plt.imshow(image1)"
      ]
    },
    {
      "cell_type": "code",
      "execution_count": null,
      "metadata": {
        "colab": {
          "base_uri": "https://localhost:8080/",
          "height": 54
        },
        "id": "LRusU4gbCNEr",
        "outputId": "8acfab4e-cc4c-42d0-f717-27f0f62e58fe"
      },
      "outputs": [
        {
          "data": {
            "text/plain": [
              "<Figure size 720x360 with 0 Axes>"
            ]
          },
          "execution_count": 74,
          "metadata": {},
          "output_type": "execute_result"
        },
        {
          "data": {
            "text/plain": [
              "<Figure size 720x360 with 0 Axes>"
            ]
          },
          "metadata": {},
          "output_type": "display_data"
        }
      ],
      "source": [
        "plt.figure(figsize=(10,5))"
      ]
    },
    {
      "cell_type": "code",
      "execution_count": null,
      "metadata": {
        "id": "t1GBKNUyJqFQ"
      },
      "outputs": [],
      "source": [
        "from numpy import unique\n",
        "\n",
        "# summarize dataset\n",
        "classes = unique(class_list)\n",
        "total = len(class_list)"
      ]
    },
    {
      "cell_type": "code",
      "execution_count": null,
      "metadata": {
        "colab": {
          "base_uri": "https://localhost:8080/"
        },
        "id": "rf7fB-eGJrQB",
        "outputId": "ffd04329-c8cc-4a95-b124-480ab049bbad"
      },
      "outputs": [
        {
          "name": "stdout",
          "output_type": "stream",
          "text": [
            "> Class=3 : 595/25503 (2.3%)\n",
            "> Class=10 : 1893/25503 (7.4%)\n",
            "> Class=12 : 518/25503 (2.0%)\n",
            "> Class=15 : 1509/25503 (5.9%)\n",
            "> Class=20 : 410/25503 (1.6%)\n",
            "> Class=21 : 410/25503 (1.6%)\n",
            "> Class=24 : 782/25503 (3.1%)\n",
            "> Class=25 : 6189/25503 (24.3%)\n",
            "> Class=27 : 426/25503 (1.7%)\n",
            "> Class=30 : 364/25503 (1.4%)\n",
            "> Class=33 : 6206/25503 (24.3%)\n",
            "> Class=34 : 419/25503 (1.6%)\n",
            "> Class=39 : 454/25503 (1.8%)\n",
            "> Class=40 : 180/25503 (0.7%)\n",
            "> Class=41 : 593/25503 (2.3%)\n",
            "> Class=44 : 547/25503 (2.1%)\n",
            "> Class=45 : 631/25503 (2.5%)\n",
            "> Class=46 : 2214/25503 (8.7%)\n",
            "> Class=50 : 781/25503 (3.1%)\n",
            "> Class=52 : 382/25503 (1.5%)\n"
          ]
        }
      ],
      "source": [
        "for c in classes:\n",
        "\tn_examples = len(class_list[class_list==c])\n",
        "\tpercent = n_examples / total * 100\n",
        "\tprint('> Class=%d : %d/%d (%.1f%%)' % (c, n_examples, total, percent))"
      ]
    },
    {
      "cell_type": "markdown",
      "metadata": {
        "id": "25Y53tSCCm_1"
      },
      "source": [
        "데이터 불균형 문제 확인(6206 / 180)\n",
        "\n",
        "언더샘플링 - 다수 범주에 속하는 데이터를 제거\n",
        "\n",
        "데이터 손실 + 분류기 성능 저하\n",
        "\n",
        "오버샘플링 - 소수 범주를 복제하여 다수가 될 때까지 맞춘다.\n",
        "\n",
        "- 실제로 수행하는 데 무리는 없으나, 그림에서 우선 사진을 제거해야 함."
      ]
    },
    {
      "cell_type": "markdown",
      "metadata": {
        "id": "sSJOwJp91yZn"
      },
      "source": [
        "# Clustering(Image, Illustration)"
      ]
    },
    {
      "cell_type": "code",
      "execution_count": null,
      "metadata": {
        "id": "UNYDavV9GKzU"
      },
      "outputs": [],
      "source": [
        "## 그림 그리기 함수\n",
        "\n",
        "def draw_sample_data(arr, ratio=1):\n",
        "    n = len(arr)  \n",
        "    print(n)\n",
        "    rows = int(np.ceil(n / 10))\n",
        "    cols = n if rows < 2 else 10\n",
        "    fig, axs = plt.subplots(rows, cols,\n",
        "                            figsize=(cols * ratio, rows * ratio), squeeze=False)\n",
        "    for i in range(rows):\n",
        "        for j in range(cols):\n",
        "            if i * 10 + j < n:\n",
        "                axs[i, j].imshow(arr[i * 10 + j], cmap='gray_r')\n",
        "            axs[i, j].axis('off')\n",
        "    plt.show()"
      ]
    },
    {
      "cell_type": "code",
      "execution_count": null,
      "metadata": {
        "id": "2QxlgVZX3MS6"
      },
      "outputs": [],
      "source": [
        "condition = totaldata['class'].isin(['3', '12', '24', '41', '50'])\n",
        "clusterdata = totaldata.loc[condition]\n",
        "\n",
        "forcluster_data = []\n",
        "clustered_data = pd.DataFrame(columns = [\"path\", \"class\"])"
      ]
    },
    {
      "cell_type": "code",
      "execution_count": null,
      "metadata": {
        "colab": {
          "base_uri": "https://localhost:8080/"
        },
        "id": "2PUnx1fvRH9z",
        "outputId": "0fca2642-c3cd-4e8a-829d-50c39e82135d"
      },
      "outputs": [
        {
          "name": "stderr",
          "output_type": "stream",
          "text": [
            "/usr/local/lib/python3.7/dist-packages/PIL/Image.py:960: UserWarning: Palette images with Transparency expressed in bytes should be converted to RGBA images\n",
            "  \"Palette images with Transparency expressed in bytes should be \"\n"
          ]
        },
        {
          "data": {
            "text/plain": [
              "KMeans(n_clusters=5)"
            ]
          },
          "execution_count": 101,
          "metadata": {},
          "output_type": "execute_result"
        }
      ],
      "source": [
        "from sklearn.cluster import KMeans\n",
        "\n",
        "forcluster_data = totaldata[totaldata['class'] == '50']\n",
        "path_list = forcluster_data['path']\n",
        "class_list = forcluster_data['class']\n",
        "\n",
        "images = []\n",
        "images2 = []\n",
        "\n",
        "for file in forcluster_data['path']:\n",
        "    img = Image.open(file)\n",
        "    img = img.convert(\"RGB\")\n",
        "    img = img.resize((224, 224))\n",
        "    img = np.array(img)\n",
        "    images.append(img)\n",
        "\n",
        "images = np.array(images)\n",
        "images = images / 255\n",
        "images = images.reshape(-1, 224, 224, 3)\n",
        "\n",
        "images2 = images.reshape(len(images), -1)\n",
        "km = KMeans(n_clusters=5)\n",
        "km.fit(images2)"
      ]
    },
    {
      "cell_type": "code",
      "execution_count": null,
      "metadata": {
        "id": "yhkMZJBSH48U"
      },
      "outputs": [],
      "source": [
        "draw_sample_data(images[km.labels_ == 0])\n",
        "draw_sample_data(images[km.labels_ == 1])\n",
        "draw_sample_data(images[km.labels_ == 2])\n",
        "draw_sample_data(images[km.labels_ == 3])\n",
        "draw_sample_data(images[km.labels_ == 4])"
      ]
    },
    {
      "cell_type": "code",
      "execution_count": null,
      "metadata": {
        "id": "D3DG-Vr_YbM6"
      },
      "outputs": [],
      "source": [
        "# clustered_data = pd.concat([clustered_data,forcluster_data[km.labels_ == 3]], axis = 0)"
      ]
    },
    {
      "cell_type": "code",
      "execution_count": null,
      "metadata": {
        "id": "8UKsndNacURG"
      },
      "outputs": [],
      "source": [
        "# clustered_data.to_csv(\"clustered.csv\", encoding = 'euc-kr')"
      ]
    },
    {
      "cell_type": "code",
      "execution_count": null,
      "metadata": {
        "id": "O5rNcUt9c9IM"
      },
      "outputs": [],
      "source": [
        "clustered_data = pd.read_csv(\"clustered.csv\", encoding = \"euc-kr\")\n",
        "totaldata.drop(totaldata[totaldata['class'].isin(['3', '12', '24', '41', '50'])].index, inplace = True)"
      ]
    },
    {
      "cell_type": "code",
      "execution_count": null,
      "metadata": {
        "id": "hurLlakvZOLD"
      },
      "outputs": [],
      "source": [
        "finaldata = pd.concat([totaldata,clustered_data], axis = 0)\n",
        "finaldata = finaldata[['path', 'class']]\n",
        "finaldata = finaldata.rename(columns = {'class' : 'label'})"
      ]
    },
    {
      "cell_type": "markdown",
      "metadata": {
        "id": "bzuyUC1LBIY3"
      },
      "source": [
        "# AutoEncoder"
      ]
    },
    {
      "cell_type": "code",
      "execution_count": null,
      "metadata": {
        "id": "f_bGch7FR9sc"
      },
      "outputs": [],
      "source": [
        "image_data = np.load('image224.npy').\n",
        "class_data = np.load('class224.npy')"
      ]
    },
    {
      "cell_type": "code",
      "execution_count": null,
      "metadata": {
        "id": "BHON5S_J1Db_"
      },
      "outputs": [],
      "source": [
        "from tensorflow import keras\n",
        "from tensorflow.keras.layers import Input, Conv2D, Conv2DTranspose, Dense, Flatten, Dropout, BatchNormalization, Reshape, LeakyReLU, MaxPooling2D, UpSampling2D\n",
        "from tensorflow.keras.models import Model, Sequential\n",
        "from tensorflow.keras.callbacks import ModelCheckpoint"
      ]
    },
    {
      "cell_type": "code",
      "execution_count": null,
      "metadata": {
        "id": "LNWQY78ovOUg"
      },
      "outputs": [],
      "source": [
        "encoder_input = Input(shape=(224, 224, 3))\n",
        "\n",
        "# 224 X 224\n",
        "x = Conv2D(3, 3, padding='same')(encoder_input) \n",
        "x = BatchNormalization()(x)\n",
        "x = LeakyReLU()(x) \n",
        "\n",
        "# 224 X 224 -> 112 X 112\n",
        "x = Conv2D(3, 3, strides=2, padding='same')(x)\n",
        "x = BatchNormalization()(x) \n",
        "x = LeakyReLU()(x) \n",
        "\n",
        "# 112 X 112 -> 56 X 56\n",
        "x = Conv2D(3, 3, strides=2, padding='same')(x)\n",
        "x = BatchNormalization()(x)\n",
        "x = LeakyReLU()(x)\n",
        "\n",
        "# 56 X 56\n",
        "x = Conv2D(3, 3, padding='same')(x)\n",
        "x = BatchNormalization()(x)\n",
        "encoder_output = LeakyReLU()(x)"
      ]
    },
    {
      "cell_type": "code",
      "execution_count": null,
      "metadata": {
        "id": "8iRVnJ6m0JXO"
      },
      "outputs": [],
      "source": [
        "encoder = Model(encoder_input, encoder_output)\n",
        "encoder.summary()"
      ]
    },
    {
      "cell_type": "code",
      "execution_count": null,
      "metadata": {
        "id": "ApGos3WtvTxC"
      },
      "outputs": [],
      "source": [
        "# Input 2D \n",
        "decoder_input = Input(shape=(56, 56, 3))\n",
        "\n",
        "# 56 X 56 -> 56 X 56\n",
        "x = Conv2DTranspose(3, 3, strides=1, padding='same')(decoder_input)\n",
        "x = BatchNormalization()(x)\n",
        "x = LeakyReLU()(x)\n",
        "\n",
        "# 56 X 56 -> 112 X 112\n",
        "x = Conv2DTranspose(3, 3, strides=2, padding='same')(x)\n",
        "x = BatchNormalization()(x)\n",
        "x = LeakyReLU()(x)\n",
        "\n",
        "# 112 X 112 -> 224 X 224\n",
        "x = Conv2DTranspose(3, 3, strides=2, padding='same')(x)\n",
        "x = BatchNormalization()(x)\n",
        "x = LeakyReLU()(x)\n",
        "\n",
        "# 224 X 224 -> 224 X 224\n",
        "x = Conv2DTranspose(3, 3, strides=1, padding='same')(x)\n",
        "x = BatchNormalization()(x)\n",
        "x = LeakyReLU()(x)\n",
        "\n",
        "# 최종 output\n",
        "decoder_output = Conv2DTranspose(3, 3, strides=1, padding='same', activation='tanh')(x)"
      ]
    },
    {
      "cell_type": "code",
      "execution_count": null,
      "metadata": {
        "colab": {
          "base_uri": "https://localhost:8080/"
        },
        "id": "3xY-Yxw_0kMB",
        "outputId": "4849e6c7-bc7f-4739-d226-c552a4ef451e"
      },
      "outputs": [
        {
          "name": "stdout",
          "output_type": "stream",
          "text": [
            "Model: \"model_24\"\n",
            "_________________________________________________________________\n",
            " Layer (type)                Output Shape              Param #   \n",
            "=================================================================\n",
            " input_27 (InputLayer)       [(None, 56, 56, 3)]       0         \n",
            "                                                                 \n",
            " conv2d_transpose_53 (Conv2D  (None, 56, 56, 3)        84        \n",
            " Transpose)                                                      \n",
            "                                                                 \n",
            " batch_normalization_84 (Bat  (None, 56, 56, 3)        12        \n",
            " chNormalization)                                                \n",
            "                                                                 \n",
            " leaky_re_lu_84 (LeakyReLU)  (None, 56, 56, 3)         0         \n",
            "                                                                 \n",
            " conv2d_transpose_54 (Conv2D  (None, 112, 112, 3)      84        \n",
            " Transpose)                                                      \n",
            "                                                                 \n",
            " batch_normalization_85 (Bat  (None, 112, 112, 3)      12        \n",
            " chNormalization)                                                \n",
            "                                                                 \n",
            " leaky_re_lu_85 (LeakyReLU)  (None, 112, 112, 3)       0         \n",
            "                                                                 \n",
            " conv2d_transpose_55 (Conv2D  (None, 224, 224, 3)      84        \n",
            " Transpose)                                                      \n",
            "                                                                 \n",
            " batch_normalization_86 (Bat  (None, 224, 224, 3)      12        \n",
            " chNormalization)                                                \n",
            "                                                                 \n",
            " leaky_re_lu_86 (LeakyReLU)  (None, 224, 224, 3)       0         \n",
            "                                                                 \n",
            " conv2d_transpose_56 (Conv2D  (None, 224, 224, 3)      84        \n",
            " Transpose)                                                      \n",
            "                                                                 \n",
            " batch_normalization_87 (Bat  (None, 224, 224, 3)      12        \n",
            " chNormalization)                                                \n",
            "                                                                 \n",
            " leaky_re_lu_87 (LeakyReLU)  (None, 224, 224, 3)       0         \n",
            "                                                                 \n",
            " conv2d_transpose_57 (Conv2D  (None, 224, 224, 3)      84        \n",
            " Transpose)                                                      \n",
            "                                                                 \n",
            "=================================================================\n",
            "Total params: 468\n",
            "Trainable params: 444\n",
            "Non-trainable params: 24\n",
            "_________________________________________________________________\n"
          ]
        }
      ],
      "source": [
        "decoder = Model(decoder_input, decoder_output)\n",
        "decoder.summary()"
      ]
    },
    {
      "cell_type": "code",
      "execution_count": null,
      "metadata": {
        "id": "4wv2aFK8bSl0"
      },
      "outputs": [],
      "source": [
        "encoder_in = Input(shape=(224, 224, 3))\n",
        "x = encoder(encoder_in)\n",
        "decoder_out = decoder(x)\n",
        "auto_encoder = Model(encoder_in, decoder_out)"
      ]
    },
    {
      "cell_type": "code",
      "execution_count": null,
      "metadata": {
        "id": "HwZsI3cUv1ct"
      },
      "outputs": [],
      "source": [
        "from tensorflow.keras.preprocessing.image import ImageDataGenerator\n",
        "from sklearn.model_selection import train_test_split\n",
        "\n",
        "idg = ImageDataGenerator(rescale = 1./255, horizontal_flip = True)\n",
        "idg2 = ImageDataGenerator(rescale = 1./255)"
      ]
    },
    {
      "cell_type": "code",
      "execution_count": null,
      "metadata": {
        "id": "nAJO9SM6vPS_"
      },
      "outputs": [],
      "source": [
        "from imblearn.under_sampling import RandomUnderSampler \n",
        "finaldata = finaldata.astype({'label' : 'int64'})\n",
        "X_train, X_test, y_train, y_test = train_test_split(finaldata, finaldata['label'])"
      ]
    },
    {
      "cell_type": "code",
      "execution_count": null,
      "metadata": {
        "id": "SUhstZAsICbn"
      },
      "outputs": [],
      "source": [
        "undersample = RandomUnderSampler(sampling_strategy='majority')\n",
        "X_under, y_under = undersample.fit_resample(X_train, y_train)\n",
        "X_under, y_under = undersample.fit_resample(X_under, y_under)\n",
        "X_under, y_under = undersample.fit_resample(X_under, y_under)\n",
        "X_under, y_under = undersample.fit_resample(X_under, y_under)"
      ]
    },
    {
      "cell_type": "code",
      "execution_count": null,
      "metadata": {
        "colab": {
          "base_uri": "https://localhost:8080/"
        },
        "id": "5yYyzqXXxdhx",
        "outputId": "777c0e1b-d214-4bf0-8d0f-0325829cf4d6"
      },
      "outputs": [
        {
          "name": "stdout",
          "output_type": "stream",
          "text": [
            "Found 17882 validated image filenames.\n",
            "Found 5961 validated image filenames.\n"
          ]
        }
      ],
      "source": [
        "X_train = X_train.astype({'label' : 'str'})\n",
        "X_test = X_test.astype({'label' : 'str'})\n",
        "\n",
        "train_data_generator = idg.flow_from_dataframe(X_train, x_col = \"path\", y_col = \"label\", color_mode='rgb',\n",
        "                                                target_size = (224, 224), class_mode='input', batch_size=64, shuffle=True)\n",
        "validation_data_generator = idg2.flow_from_dataframe(X_test, x_col = \"path\", y_col = \"label\", color_mode='rgb',\n",
        "                                                target_size = (224, 224), class_mode='input', batch_size=64, shuffle=True)"
      ]
    },
    {
      "cell_type": "code",
      "execution_count": null,
      "metadata": {
        "id": "hmcX7ehSeRzu"
      },
      "outputs": [],
      "source": [
        "BATCH_SIZE = 64\n",
        "EPOCH = 300"
      ]
    },
    {
      "cell_type": "code",
      "execution_count": null,
      "metadata": {
        "id": "oOuBqbvGayGv"
      },
      "outputs": [],
      "source": [
        "from keras.callbacks import ModelCheckpoint, EarlyStopping, ReduceLROnPlateau\n",
        "\n",
        "\n",
        "filename = 'AutoEncoder_checkpoint-epoch-{}-batch-{}-trial-001.h5'.format(EPOCH, BATCH_SIZE)\n",
        "checkpoint = ModelCheckpoint(filename,             \n",
        "                             monitor='loss',   \n",
        "                             verbose=1,            # 로그 출력\n",
        "                             save_best_only=True,  # best 값만 저장\n",
        "                             mode='auto'           # 자동으로 best 탐색\n",
        "                            )\n",
        "\n",
        "earlystopping = EarlyStopping(monitor='loss',  \n",
        "                              patience=10,         # 10회 Epoch동안 개선되지 않는다면 종료\n",
        "                             )\n",
        "reduceLR = ReduceLROnPlateau(monitor='loss',  \n",
        "                             factor=0.5,          # callback 호출시 학습률 1/2\n",
        "                             patience=10,         \n",
        ")"
      ]
    },
    {
      "cell_type": "code",
      "execution_count": null,
      "metadata": {
        "colab": {
          "background_save": true,
          "base_uri": "https://localhost:8080/"
        },
        "id": "SQHC_LskycaP",
        "outputId": "9852ccd8-060e-421c-fb5c-ad8c9c679e21"
      },
      "outputs": [
        {
          "name": "stdout",
          "output_type": "stream",
          "text": [
            "Epoch 1/300\n",
            "15/15 [==============================] - ETA: 0s - loss: 0.9130 - accuracy: 0.2248 \n",
            "Epoch 1: loss did not improve from 0.07574\n",
            "15/15 [==============================] - 181s 12s/step - loss: 0.9130 - accuracy: 0.2248 - lr: 0.0010\n",
            "Epoch 2/300\n",
            "15/15 [==============================] - ETA: 0s - loss: 0.7489 - accuracy: 0.0999 \n",
            "Epoch 2: loss did not improve from 0.07574\n",
            "15/15 [==============================] - 160s 11s/step - loss: 0.7489 - accuracy: 0.0999 - lr: 0.0010\n",
            "Epoch 3/300\n",
            "15/15 [==============================] - ETA: 0s - loss: 0.5882 - accuracy: 0.0808 \n",
            "Epoch 3: loss did not improve from 0.07574\n",
            "15/15 [==============================] - 158s 11s/step - loss: 0.5882 - accuracy: 0.0808 - lr: 0.0010\n",
            "Epoch 4/300\n",
            "15/15 [==============================] - ETA: 0s - loss: 0.4362 - accuracy: 0.0757\n",
            "Epoch 4: loss did not improve from 0.07574\n",
            "15/15 [==============================] - 140s 9s/step - loss: 0.4362 - accuracy: 0.0757 - lr: 0.0010\n",
            "Epoch 5/300\n",
            "15/15 [==============================] - ETA: 0s - loss: 0.2987 - accuracy: 0.0681\n",
            "Epoch 5: loss did not improve from 0.07574\n",
            "15/15 [==============================] - 138s 9s/step - loss: 0.2987 - accuracy: 0.0681 - lr: 0.0010\n",
            "Epoch 6/300\n",
            "15/15 [==============================] - ETA: 0s - loss: 0.1928 - accuracy: 0.0597\n",
            "Epoch 6: loss did not improve from 0.07574\n",
            "15/15 [==============================] - 129s 8s/step - loss: 0.1928 - accuracy: 0.0597 - lr: 0.0010\n",
            "Epoch 7/300\n",
            "15/15 [==============================] - ETA: 0s - loss: 0.1320 - accuracy: 0.0676\n",
            "Epoch 7: loss did not improve from 0.07574\n",
            "15/15 [==============================] - 128s 8s/step - loss: 0.1320 - accuracy: 0.0676 - lr: 0.0010\n",
            "Epoch 8/300\n",
            "15/15 [==============================] - ETA: 0s - loss: 0.0939 - accuracy: 0.0765\n",
            "Epoch 8: loss did not improve from 0.07574\n",
            "15/15 [==============================] - 120s 8s/step - loss: 0.0939 - accuracy: 0.0765 - lr: 0.0010\n",
            "Epoch 9/300\n",
            "15/15 [==============================] - ETA: 0s - loss: 0.0679 - accuracy: 0.0803\n",
            "Epoch 9: loss improved from 0.07574 to 0.06788, saving model to AutoEncoder_checkpoint-epoch-300-batch-64-trial-001.h5\n",
            "15/15 [==============================] - 118s 8s/step - loss: 0.0679 - accuracy: 0.0803 - lr: 0.0010\n",
            "Epoch 10/300\n",
            "15/15 [==============================] - ETA: 0s - loss: 0.0519 - accuracy: 0.0840\n",
            "Epoch 10: loss improved from 0.06788 to 0.05189, saving model to AutoEncoder_checkpoint-epoch-300-batch-64-trial-001.h5\n",
            "15/15 [==============================] - 103s 7s/step - loss: 0.0519 - accuracy: 0.0840 - lr: 0.0010\n",
            "Epoch 11/300\n",
            "15/15 [==============================] - ETA: 0s - loss: 0.0421 - accuracy: 0.0957\n",
            "Epoch 11: loss improved from 0.05189 to 0.04212, saving model to AutoEncoder_checkpoint-epoch-300-batch-64-trial-001.h5\n",
            "15/15 [==============================] - 97s 6s/step - loss: 0.0421 - accuracy: 0.0957 - lr: 0.0010\n",
            "Epoch 12/300\n",
            "15/15 [==============================] - ETA: 0s - loss: 0.0367 - accuracy: 0.0986\n",
            "Epoch 12: loss improved from 0.04212 to 0.03667, saving model to AutoEncoder_checkpoint-epoch-300-batch-64-trial-001.h5\n",
            "15/15 [==============================] - 91s 6s/step - loss: 0.0367 - accuracy: 0.0986 - lr: 0.0010\n",
            "Epoch 13/300\n",
            "15/15 [==============================] - ETA: 0s - loss: 0.0323 - accuracy: 0.1008\n",
            "Epoch 13: loss improved from 0.03667 to 0.03232, saving model to AutoEncoder_checkpoint-epoch-300-batch-64-trial-001.h5\n",
            "15/15 [==============================] - 94s 6s/step - loss: 0.0323 - accuracy: 0.1008 - lr: 0.0010\n",
            "Epoch 14/300\n",
            "15/15 [==============================] - ETA: 0s - loss: 0.0293 - accuracy: 0.0984\n",
            "Epoch 14: loss improved from 0.03232 to 0.02929, saving model to AutoEncoder_checkpoint-epoch-300-batch-64-trial-001.h5\n",
            "15/15 [==============================] - 88s 6s/step - loss: 0.0293 - accuracy: 0.0984 - lr: 0.0010\n",
            "Epoch 15/300\n",
            "15/15 [==============================] - ETA: 0s - loss: 0.0263 - accuracy: 0.1027\n",
            "Epoch 15: loss improved from 0.02929 to 0.02634, saving model to AutoEncoder_checkpoint-epoch-300-batch-64-trial-001.h5\n",
            "15/15 [==============================] - 87s 6s/step - loss: 0.0263 - accuracy: 0.1027 - lr: 0.0010\n",
            "Epoch 16/300\n",
            "15/15 [==============================] - ETA: 0s - loss: 0.0246 - accuracy: 0.0986\n",
            "Epoch 16: loss improved from 0.02634 to 0.02462, saving model to AutoEncoder_checkpoint-epoch-300-batch-64-trial-001.h5\n",
            "15/15 [==============================] - 80s 5s/step - loss: 0.0246 - accuracy: 0.0986 - lr: 0.0010\n",
            "Epoch 17/300\n",
            "15/15 [==============================] - ETA: 0s - loss: 0.0225 - accuracy: 0.1005\n",
            "Epoch 17: loss improved from 0.02462 to 0.02253, saving model to AutoEncoder_checkpoint-epoch-300-batch-64-trial-001.h5\n",
            "15/15 [==============================] - 77s 5s/step - loss: 0.0225 - accuracy: 0.1005 - lr: 0.0010\n",
            "Epoch 18/300\n",
            "15/15 [==============================] - ETA: 0s - loss: 0.0212 - accuracy: 0.0976\n",
            "Epoch 18: loss improved from 0.02253 to 0.02117, saving model to AutoEncoder_checkpoint-epoch-300-batch-64-trial-001.h5\n",
            "15/15 [==============================] - 80s 5s/step - loss: 0.0212 - accuracy: 0.0976 - lr: 0.0010\n",
            "Epoch 19/300\n",
            "15/15 [==============================] - ETA: 0s - loss: 0.0203 - accuracy: 0.1020\n",
            "Epoch 19: loss improved from 0.02117 to 0.02025, saving model to AutoEncoder_checkpoint-epoch-300-batch-64-trial-001.h5\n",
            "15/15 [==============================] - 66s 5s/step - loss: 0.0203 - accuracy: 0.1020 - lr: 0.0010\n",
            "Epoch 20/300\n",
            "15/15 [==============================] - ETA: 0s - loss: 0.0189 - accuracy: 0.0963\n",
            "Epoch 20: loss improved from 0.02025 to 0.01892, saving model to AutoEncoder_checkpoint-epoch-300-batch-64-trial-001.h5\n",
            "15/15 [==============================] - 73s 5s/step - loss: 0.0189 - accuracy: 0.0963 - lr: 0.0010\n",
            "Epoch 21/300\n",
            "15/15 [==============================] - ETA: 0s - loss: 0.0184 - accuracy: 0.0980\n",
            "Epoch 21: loss improved from 0.01892 to 0.01842, saving model to AutoEncoder_checkpoint-epoch-300-batch-64-trial-001.h5\n",
            "15/15 [==============================] - 72s 5s/step - loss: 0.0184 - accuracy: 0.0980 - lr: 0.0010\n",
            "Epoch 22/300\n",
            "15/15 [==============================] - ETA: 0s - loss: 0.0169 - accuracy: 0.0988\n",
            "Epoch 22: loss improved from 0.01842 to 0.01694, saving model to AutoEncoder_checkpoint-epoch-300-batch-64-trial-001.h5\n",
            "15/15 [==============================] - 63s 4s/step - loss: 0.0169 - accuracy: 0.0988 - lr: 0.0010\n",
            "Epoch 23/300\n",
            "15/15 [==============================] - ETA: 0s - loss: 0.0167 - accuracy: 0.0998\n",
            "Epoch 23: loss improved from 0.01694 to 0.01666, saving model to AutoEncoder_checkpoint-epoch-300-batch-64-trial-001.h5\n",
            "15/15 [==============================] - 70s 5s/step - loss: 0.0167 - accuracy: 0.0998 - lr: 0.0010\n",
            "Epoch 24/300\n",
            "15/15 [==============================] - ETA: 0s - loss: 0.0164 - accuracy: 0.0985\n",
            "Epoch 24: loss improved from 0.01666 to 0.01638, saving model to AutoEncoder_checkpoint-epoch-300-batch-64-trial-001.h5\n",
            "15/15 [==============================] - 63s 4s/step - loss: 0.0164 - accuracy: 0.0985 - lr: 0.0010\n"
          ]
        },
        {
          "name": "stderr",
          "output_type": "stream",
          "text": [
            "/usr/local/lib/python3.7/dist-packages/PIL/Image.py:960: UserWarning: Palette images with Transparency expressed in bytes should be converted to RGBA images\n",
            "  \"Palette images with Transparency expressed in bytes should be \"\n"
          ]
        },
        {
          "name": "stdout",
          "output_type": "stream",
          "text": [
            "Epoch 25/300\n",
            "15/15 [==============================] - ETA: 0s - loss: 0.0155 - accuracy: 0.1004\n",
            "Epoch 25: loss improved from 0.01638 to 0.01555, saving model to AutoEncoder_checkpoint-epoch-300-batch-64-trial-001.h5\n",
            "15/15 [==============================] - 56s 4s/step - loss: 0.0155 - accuracy: 0.1004 - lr: 0.0010\n",
            "Epoch 26/300\n",
            "15/15 [==============================] - ETA: 0s - loss: 0.0155 - accuracy: 0.1042\n",
            "Epoch 26: loss improved from 0.01555 to 0.01545, saving model to AutoEncoder_checkpoint-epoch-300-batch-64-trial-001.h5\n",
            "15/15 [==============================] - 53s 4s/step - loss: 0.0155 - accuracy: 0.1042 - lr: 0.0010\n",
            "Epoch 27/300\n",
            "15/15 [==============================] - ETA: 0s - loss: 0.0148 - accuracy: 0.0998\n",
            "Epoch 27: loss improved from 0.01545 to 0.01476, saving model to AutoEncoder_checkpoint-epoch-300-batch-64-trial-001.h5\n",
            "15/15 [==============================] - 60s 4s/step - loss: 0.0148 - accuracy: 0.0998 - lr: 0.0010\n",
            "Epoch 28/300\n",
            "15/15 [==============================] - ETA: 0s - loss: 0.0144 - accuracy: 0.1066\n",
            "Epoch 28: loss improved from 0.01476 to 0.01440, saving model to AutoEncoder_checkpoint-epoch-300-batch-64-trial-001.h5\n",
            "15/15 [==============================] - 53s 4s/step - loss: 0.0144 - accuracy: 0.1066 - lr: 0.0010\n",
            "Epoch 29/300\n",
            "15/15 [==============================] - ETA: 0s - loss: 0.0138 - accuracy: 0.1078\n",
            "Epoch 29: loss improved from 0.01440 to 0.01376, saving model to AutoEncoder_checkpoint-epoch-300-batch-64-trial-001.h5\n",
            "15/15 [==============================] - 58s 4s/step - loss: 0.0138 - accuracy: 0.1078 - lr: 0.0010\n",
            "Epoch 30/300\n",
            "15/15 [==============================] - ETA: 0s - loss: 0.0137 - accuracy: 0.1050\n",
            "Epoch 30: loss improved from 0.01376 to 0.01365, saving model to AutoEncoder_checkpoint-epoch-300-batch-64-trial-001.h5\n",
            "15/15 [==============================] - 57s 4s/step - loss: 0.0137 - accuracy: 0.1050 - lr: 0.0010\n",
            "Epoch 31/300\n",
            "15/15 [==============================] - ETA: 0s - loss: 0.0134 - accuracy: 0.1143\n",
            "Epoch 31: loss improved from 0.01365 to 0.01338, saving model to AutoEncoder_checkpoint-epoch-300-batch-64-trial-001.h5\n",
            "15/15 [==============================] - 49s 3s/step - loss: 0.0134 - accuracy: 0.1143 - lr: 0.0010\n",
            "Epoch 32/300\n",
            "15/15 [==============================] - ETA: 0s - loss: 0.0133 - accuracy: 0.1125\n",
            "Epoch 32: loss improved from 0.01338 to 0.01330, saving model to AutoEncoder_checkpoint-epoch-300-batch-64-trial-001.h5\n",
            "15/15 [==============================] - 55s 4s/step - loss: 0.0133 - accuracy: 0.1125 - lr: 0.0010\n",
            "Epoch 33/300\n",
            "15/15 [==============================] - ETA: 0s - loss: 0.0134 - accuracy: 0.1208\n",
            "Epoch 33: loss did not improve from 0.01330\n",
            "15/15 [==============================] - 48s 3s/step - loss: 0.0134 - accuracy: 0.1208 - lr: 0.0010\n",
            "Epoch 34/300\n",
            "11/15 [=====================>........] - ETA: 12s - loss: 0.0129 - accuracy: 0.1189"
          ]
        },
        {
          "ename": "KeyboardInterrupt",
          "evalue": "ignored",
          "output_type": "error",
          "traceback": [
            "\u001b[0;31m---------------------------------------------------------------------------\u001b[0m",
            "\u001b[0;31mKeyboardInterrupt\u001b[0m                         Traceback (most recent call last)",
            "\u001b[0;32m<ipython-input-164-e3d1b7dad36d>\u001b[0m in \u001b[0;36m<module>\u001b[0;34m\u001b[0m\n\u001b[1;32m      3\u001b[0m auto_encoder.fit(train_data_generator, steps_per_epoch = 15, \n\u001b[1;32m      4\u001b[0m                  \u001b[0mepochs\u001b[0m\u001b[0;34m=\u001b[0m\u001b[0mEPOCH\u001b[0m\u001b[0;34m,\u001b[0m \u001b[0mbatch_size\u001b[0m\u001b[0;34m=\u001b[0m\u001b[0mBATCH_SIZE\u001b[0m\u001b[0;34m,\u001b[0m\u001b[0;34m\u001b[0m\u001b[0;34m\u001b[0m\u001b[0m\n\u001b[0;32m----> 5\u001b[0;31m                  callbacks=[checkpoint, earlystopping, reduceLR])\n\u001b[0m",
            "\u001b[0;32m/usr/local/lib/python3.7/dist-packages/keras/utils/traceback_utils.py\u001b[0m in \u001b[0;36merror_handler\u001b[0;34m(*args, **kwargs)\u001b[0m\n\u001b[1;32m     62\u001b[0m     \u001b[0mfiltered_tb\u001b[0m \u001b[0;34m=\u001b[0m \u001b[0;32mNone\u001b[0m\u001b[0;34m\u001b[0m\u001b[0;34m\u001b[0m\u001b[0m\n\u001b[1;32m     63\u001b[0m     \u001b[0;32mtry\u001b[0m\u001b[0;34m:\u001b[0m\u001b[0;34m\u001b[0m\u001b[0;34m\u001b[0m\u001b[0m\n\u001b[0;32m---> 64\u001b[0;31m       \u001b[0;32mreturn\u001b[0m \u001b[0mfn\u001b[0m\u001b[0;34m(\u001b[0m\u001b[0;34m*\u001b[0m\u001b[0margs\u001b[0m\u001b[0;34m,\u001b[0m \u001b[0;34m**\u001b[0m\u001b[0mkwargs\u001b[0m\u001b[0;34m)\u001b[0m\u001b[0;34m\u001b[0m\u001b[0;34m\u001b[0m\u001b[0m\n\u001b[0m\u001b[1;32m     65\u001b[0m     \u001b[0;32mexcept\u001b[0m \u001b[0mException\u001b[0m \u001b[0;32mas\u001b[0m \u001b[0me\u001b[0m\u001b[0;34m:\u001b[0m  \u001b[0;31m# pylint: disable=broad-except\u001b[0m\u001b[0;34m\u001b[0m\u001b[0;34m\u001b[0m\u001b[0m\n\u001b[1;32m     66\u001b[0m       \u001b[0mfiltered_tb\u001b[0m \u001b[0;34m=\u001b[0m \u001b[0m_process_traceback_frames\u001b[0m\u001b[0;34m(\u001b[0m\u001b[0me\u001b[0m\u001b[0;34m.\u001b[0m\u001b[0m__traceback__\u001b[0m\u001b[0;34m)\u001b[0m\u001b[0;34m\u001b[0m\u001b[0;34m\u001b[0m\u001b[0m\n",
            "\u001b[0;32m/usr/local/lib/python3.7/dist-packages/keras/engine/training.py\u001b[0m in \u001b[0;36mfit\u001b[0;34m(self, x, y, batch_size, epochs, verbose, callbacks, validation_split, validation_data, shuffle, class_weight, sample_weight, initial_epoch, steps_per_epoch, validation_steps, validation_batch_size, validation_freq, max_queue_size, workers, use_multiprocessing)\u001b[0m\n\u001b[1;32m   1370\u001b[0m           \u001b[0muse_multiprocessing\u001b[0m\u001b[0;34m=\u001b[0m\u001b[0muse_multiprocessing\u001b[0m\u001b[0;34m,\u001b[0m\u001b[0;34m\u001b[0m\u001b[0;34m\u001b[0m\u001b[0m\n\u001b[1;32m   1371\u001b[0m           \u001b[0mmodel\u001b[0m\u001b[0;34m=\u001b[0m\u001b[0mself\u001b[0m\u001b[0;34m,\u001b[0m\u001b[0;34m\u001b[0m\u001b[0;34m\u001b[0m\u001b[0m\n\u001b[0;32m-> 1372\u001b[0;31m           steps_per_execution=self._steps_per_execution)\n\u001b[0m\u001b[1;32m   1373\u001b[0m \u001b[0;34m\u001b[0m\u001b[0m\n\u001b[1;32m   1374\u001b[0m       \u001b[0;31m# Container that configures and calls `tf.keras.Callback`s.\u001b[0m\u001b[0;34m\u001b[0m\u001b[0;34m\u001b[0m\u001b[0;34m\u001b[0m\u001b[0m\n",
            "\u001b[0;32m/usr/local/lib/python3.7/dist-packages/tensorflow/python/util/traceback_utils.py\u001b[0m in \u001b[0;36merror_handler\u001b[0;34m(*args, **kwargs)\u001b[0m\n\u001b[1;32m    148\u001b[0m     \u001b[0mfiltered_tb\u001b[0m \u001b[0;34m=\u001b[0m \u001b[0;32mNone\u001b[0m\u001b[0;34m\u001b[0m\u001b[0;34m\u001b[0m\u001b[0m\n\u001b[1;32m    149\u001b[0m     \u001b[0;32mtry\u001b[0m\u001b[0;34m:\u001b[0m\u001b[0;34m\u001b[0m\u001b[0;34m\u001b[0m\u001b[0m\n\u001b[0;32m--> 150\u001b[0;31m       \u001b[0;32mreturn\u001b[0m \u001b[0mfn\u001b[0m\u001b[0;34m(\u001b[0m\u001b[0;34m*\u001b[0m\u001b[0margs\u001b[0m\u001b[0;34m,\u001b[0m \u001b[0;34m**\u001b[0m\u001b[0mkwargs\u001b[0m\u001b[0;34m)\u001b[0m\u001b[0;34m\u001b[0m\u001b[0;34m\u001b[0m\u001b[0m\n\u001b[0m\u001b[1;32m    151\u001b[0m     \u001b[0;32mexcept\u001b[0m \u001b[0mException\u001b[0m \u001b[0;32mas\u001b[0m \u001b[0me\u001b[0m\u001b[0;34m:\u001b[0m\u001b[0;34m\u001b[0m\u001b[0;34m\u001b[0m\u001b[0m\n\u001b[1;32m    152\u001b[0m       \u001b[0mfiltered_tb\u001b[0m \u001b[0;34m=\u001b[0m \u001b[0m_process_traceback_frames\u001b[0m\u001b[0;34m(\u001b[0m\u001b[0me\u001b[0m\u001b[0;34m.\u001b[0m\u001b[0m__traceback__\u001b[0m\u001b[0;34m)\u001b[0m\u001b[0;34m\u001b[0m\u001b[0;34m\u001b[0m\u001b[0m\n",
            "\u001b[0;32m/usr/local/lib/python3.7/dist-packages/tensorflow/python/eager/def_function.py\u001b[0m in \u001b[0;36m__call__\u001b[0;34m(self, *args, **kwds)\u001b[0m\n\u001b[1;32m    913\u001b[0m \u001b[0;34m\u001b[0m\u001b[0m\n\u001b[1;32m    914\u001b[0m       \u001b[0;32mwith\u001b[0m \u001b[0mOptionalXlaContext\u001b[0m\u001b[0;34m(\u001b[0m\u001b[0mself\u001b[0m\u001b[0;34m.\u001b[0m\u001b[0m_jit_compile\u001b[0m\u001b[0;34m)\u001b[0m\u001b[0;34m:\u001b[0m\u001b[0;34m\u001b[0m\u001b[0;34m\u001b[0m\u001b[0m\n\u001b[0;32m--> 915\u001b[0;31m         \u001b[0mresult\u001b[0m \u001b[0;34m=\u001b[0m \u001b[0mself\u001b[0m\u001b[0;34m.\u001b[0m\u001b[0m_call\u001b[0m\u001b[0;34m(\u001b[0m\u001b[0;34m*\u001b[0m\u001b[0margs\u001b[0m\u001b[0;34m,\u001b[0m \u001b[0;34m**\u001b[0m\u001b[0mkwds\u001b[0m\u001b[0;34m)\u001b[0m\u001b[0;34m\u001b[0m\u001b[0;34m\u001b[0m\u001b[0m\n\u001b[0m\u001b[1;32m    916\u001b[0m \u001b[0;34m\u001b[0m\u001b[0m\n\u001b[1;32m    917\u001b[0m       \u001b[0mnew_tracing_count\u001b[0m \u001b[0;34m=\u001b[0m \u001b[0mself\u001b[0m\u001b[0;34m.\u001b[0m\u001b[0mexperimental_get_tracing_count\u001b[0m\u001b[0;34m(\u001b[0m\u001b[0;34m)\u001b[0m\u001b[0;34m\u001b[0m\u001b[0;34m\u001b[0m\u001b[0m\n",
            "\u001b[0;32m/usr/local/lib/python3.7/dist-packages/tensorflow/python/eager/def_function.py\u001b[0m in \u001b[0;36m_call\u001b[0;34m(self, *args, **kwds)\u001b[0m\n\u001b[1;32m    945\u001b[0m       \u001b[0;31m# In this case we have created variables on the first call, so we run the\u001b[0m\u001b[0;34m\u001b[0m\u001b[0;34m\u001b[0m\u001b[0;34m\u001b[0m\u001b[0m\n\u001b[1;32m    946\u001b[0m       \u001b[0;31m# defunned version which is guaranteed to never create variables.\u001b[0m\u001b[0;34m\u001b[0m\u001b[0;34m\u001b[0m\u001b[0;34m\u001b[0m\u001b[0m\n\u001b[0;32m--> 947\u001b[0;31m       \u001b[0;32mreturn\u001b[0m \u001b[0mself\u001b[0m\u001b[0;34m.\u001b[0m\u001b[0m_stateless_fn\u001b[0m\u001b[0;34m(\u001b[0m\u001b[0;34m*\u001b[0m\u001b[0margs\u001b[0m\u001b[0;34m,\u001b[0m \u001b[0;34m**\u001b[0m\u001b[0mkwds\u001b[0m\u001b[0;34m)\u001b[0m  \u001b[0;31m# pylint: disable=not-callable\u001b[0m\u001b[0;34m\u001b[0m\u001b[0;34m\u001b[0m\u001b[0m\n\u001b[0m\u001b[1;32m    948\u001b[0m     \u001b[0;32melif\u001b[0m \u001b[0mself\u001b[0m\u001b[0;34m.\u001b[0m\u001b[0m_stateful_fn\u001b[0m \u001b[0;32mis\u001b[0m \u001b[0;32mnot\u001b[0m \u001b[0;32mNone\u001b[0m\u001b[0;34m:\u001b[0m\u001b[0;34m\u001b[0m\u001b[0;34m\u001b[0m\u001b[0m\n\u001b[1;32m    949\u001b[0m       \u001b[0;31m# Release the lock early so that multiple threads can perform the call\u001b[0m\u001b[0;34m\u001b[0m\u001b[0;34m\u001b[0m\u001b[0;34m\u001b[0m\u001b[0m\n",
            "\u001b[0;32m/usr/local/lib/python3.7/dist-packages/tensorflow/python/eager/function.py\u001b[0m in \u001b[0;36m__call__\u001b[0;34m(self, *args, **kwargs)\u001b[0m\n\u001b[1;32m   2452\u001b[0m        filtered_flat_args) = self._maybe_define_function(args, kwargs)\n\u001b[1;32m   2453\u001b[0m     return graph_function._call_flat(\n\u001b[0;32m-> 2454\u001b[0;31m         filtered_flat_args, captured_inputs=graph_function.captured_inputs)  # pylint: disable=protected-access\n\u001b[0m\u001b[1;32m   2455\u001b[0m \u001b[0;34m\u001b[0m\u001b[0m\n\u001b[1;32m   2456\u001b[0m   \u001b[0;34m@\u001b[0m\u001b[0mproperty\u001b[0m\u001b[0;34m\u001b[0m\u001b[0;34m\u001b[0m\u001b[0m\n",
            "\u001b[0;32m/usr/local/lib/python3.7/dist-packages/tensorflow/python/eager/function.py\u001b[0m in \u001b[0;36m_call_flat\u001b[0;34m(self, args, captured_inputs, cancellation_manager)\u001b[0m\n\u001b[1;32m   1859\u001b[0m       \u001b[0;31m# No tape is watching; skip to running the function.\u001b[0m\u001b[0;34m\u001b[0m\u001b[0;34m\u001b[0m\u001b[0;34m\u001b[0m\u001b[0m\n\u001b[1;32m   1860\u001b[0m       return self._build_call_outputs(self._inference_function.call(\n\u001b[0;32m-> 1861\u001b[0;31m           ctx, args, cancellation_manager=cancellation_manager))\n\u001b[0m\u001b[1;32m   1862\u001b[0m     forward_backward = self._select_forward_and_backward_functions(\n\u001b[1;32m   1863\u001b[0m         \u001b[0margs\u001b[0m\u001b[0;34m,\u001b[0m\u001b[0;34m\u001b[0m\u001b[0;34m\u001b[0m\u001b[0m\n",
            "\u001b[0;32m/usr/local/lib/python3.7/dist-packages/tensorflow/python/eager/function.py\u001b[0m in \u001b[0;36mcall\u001b[0;34m(self, ctx, args, cancellation_manager)\u001b[0m\n\u001b[1;32m    500\u001b[0m               \u001b[0minputs\u001b[0m\u001b[0;34m=\u001b[0m\u001b[0margs\u001b[0m\u001b[0;34m,\u001b[0m\u001b[0;34m\u001b[0m\u001b[0;34m\u001b[0m\u001b[0m\n\u001b[1;32m    501\u001b[0m               \u001b[0mattrs\u001b[0m\u001b[0;34m=\u001b[0m\u001b[0mattrs\u001b[0m\u001b[0;34m,\u001b[0m\u001b[0;34m\u001b[0m\u001b[0;34m\u001b[0m\u001b[0m\n\u001b[0;32m--> 502\u001b[0;31m               ctx=ctx)\n\u001b[0m\u001b[1;32m    503\u001b[0m         \u001b[0;32melse\u001b[0m\u001b[0;34m:\u001b[0m\u001b[0;34m\u001b[0m\u001b[0;34m\u001b[0m\u001b[0m\n\u001b[1;32m    504\u001b[0m           outputs = execute.execute_with_cancellation(\n",
            "\u001b[0;32m/usr/local/lib/python3.7/dist-packages/tensorflow/python/eager/execute.py\u001b[0m in \u001b[0;36mquick_execute\u001b[0;34m(op_name, num_outputs, inputs, attrs, ctx, name)\u001b[0m\n\u001b[1;32m     53\u001b[0m     \u001b[0mctx\u001b[0m\u001b[0;34m.\u001b[0m\u001b[0mensure_initialized\u001b[0m\u001b[0;34m(\u001b[0m\u001b[0;34m)\u001b[0m\u001b[0;34m\u001b[0m\u001b[0;34m\u001b[0m\u001b[0m\n\u001b[1;32m     54\u001b[0m     tensors = pywrap_tfe.TFE_Py_Execute(ctx._handle, device_name, op_name,\n\u001b[0;32m---> 55\u001b[0;31m                                         inputs, attrs, num_outputs)\n\u001b[0m\u001b[1;32m     56\u001b[0m   \u001b[0;32mexcept\u001b[0m \u001b[0mcore\u001b[0m\u001b[0;34m.\u001b[0m\u001b[0m_NotOkStatusException\u001b[0m \u001b[0;32mas\u001b[0m \u001b[0me\u001b[0m\u001b[0;34m:\u001b[0m\u001b[0;34m\u001b[0m\u001b[0;34m\u001b[0m\u001b[0m\n\u001b[1;32m     57\u001b[0m     \u001b[0;32mif\u001b[0m \u001b[0mname\u001b[0m \u001b[0;32mis\u001b[0m \u001b[0;32mnot\u001b[0m \u001b[0;32mNone\u001b[0m\u001b[0;34m:\u001b[0m\u001b[0;34m\u001b[0m\u001b[0;34m\u001b[0m\u001b[0m\n",
            "\u001b[0;31mKeyboardInterrupt\u001b[0m: "
          ]
        }
      ],
      "source": [
        "auto_encoder.compile(optimizer='adam', loss='mse', metrics=['accuracy'])\n",
        "\n",
        "auto_encoder.fit(train_data_generator, steps_per_epoch = 15, \n",
        "                 epochs=EPOCH, batch_size=BATCH_SIZE, \n",
        "                 callbacks=[checkpoint, earlystopping, reduceLR])"
      ]
    },
    {
      "cell_type": "code",
      "execution_count": null,
      "metadata": {
        "colab": {
          "base_uri": "https://localhost:8080/",
          "height": 211
        },
        "id": "ftZnrC1V5I7A",
        "outputId": "cdb7ffe8-7656-43a4-9517-aa39613f71c1"
      },
      "outputs": [
        {
          "ename": "NameError",
          "evalue": "ignored",
          "output_type": "error",
          "traceback": [
            "\u001b[0;31m---------------------------------------------------------------------------\u001b[0m",
            "\u001b[0;31mNameError\u001b[0m                                 Traceback (most recent call last)",
            "\u001b[0;32m<ipython-input-46-4e88ec8ed348>\u001b[0m in \u001b[0;36m<module>\u001b[0;34m\u001b[0m\n\u001b[0;32m----> 1\u001b[0;31m \u001b[0mencoder\u001b[0m \u001b[0;34m=\u001b[0m \u001b[0mModel\u001b[0m\u001b[0;34m(\u001b[0m\u001b[0minputs\u001b[0m \u001b[0;34m=\u001b[0m \u001b[0minput_img\u001b[0m\u001b[0;34m,\u001b[0m \u001b[0moutputs\u001b[0m\u001b[0;34m=\u001b[0m\u001b[0mencoder2\u001b[0m\u001b[0;34m)\u001b[0m\u001b[0;34m\u001b[0m\u001b[0;34m\u001b[0m\u001b[0m\n\u001b[0m\u001b[1;32m      2\u001b[0m \u001b[0;34m\u001b[0m\u001b[0m\n\u001b[1;32m      3\u001b[0m \u001b[0mlatent_vector\u001b[0m \u001b[0;34m=\u001b[0m \u001b[0mencoder\u001b[0m\u001b[0;34m.\u001b[0m\u001b[0mpredict\u001b[0m\u001b[0;34m(\u001b[0m\u001b[0mx_test\u001b[0m\u001b[0;34m)\u001b[0m\u001b[0;34m\u001b[0m\u001b[0;34m\u001b[0m\u001b[0m\n",
            "\u001b[0;31mNameError\u001b[0m: name 'input_img' is not defined"
          ]
        }
      ],
      "source": [
        "encoder = Model(inputs = ㅌ_, outputs=encoder2)\n",
        "\n",
        "latent_vector = encoder.predict(x_test)"
      ]
    },
    {
      "cell_type": "code",
      "execution_count": null,
      "metadata": {
        "colab": {
          "base_uri": "https://localhost:8080/"
        },
        "id": "kLG1TUTQKE96",
        "outputId": "1a6d14a1-64e1-42b3-bedc-10435a609724"
      },
      "outputs": [
        {
          "name": "stderr",
          "output_type": "stream",
          "text": [
            "WARNING:tensorflow:Compiled the loaded model, but the compiled metrics have yet to be built. `model.compile_metrics` will be empty until you train or evaluate the model.\n"
          ]
        }
      ],
      "source": [
        "encoder.save('encoder.h5')"
      ]
    },
    {
      "cell_type": "code",
      "execution_count": null,
      "metadata": {
        "id": "mq5W_QuZh9AX"
      },
      "outputs": [],
      "source": []
    },
    {
      "cell_type": "markdown",
      "metadata": {
        "id": "hcIAQjKi13b1"
      },
      "source": [
        "# Classification with 10-Fold Cross Validation"
      ]
    },
    {
      "cell_type": "code",
      "execution_count": null,
      "metadata": {
        "id": "OjcmArtmKwAk"
      },
      "outputs": [],
      "source": [
        "from tensorflow.keras.preprocessing.image import ImageDataGenerator\n",
        "from sklearn.model_selection import StratifiedKFold\n",
        "from imblearn.under_sampling import *\n",
        "\n",
        "skf = StratifiedKFold(n_splits = 10, random_state = 42, shuffle = True)\n",
        "idg = ImageDataGenerator(rescale = 1./255, horizontal_flip = True)\n",
        "idg2 = ImageDataGenerator(rescale = 1./255)"
      ]
    },
    {
      "cell_type": "code",
      "execution_count": null,
      "metadata": {
        "id": "gs7DcsSBhR8B"
      },
      "outputs": [],
      "source": [
        "totaldata = totaldata.astype({'label' : 'str'})\n",
        "\n",
        "for train_index, test_index in skf.split(totaldata, totaldata['label']):\n",
        " \n",
        "    training_set = totaldata.iloc[train_index]\n",
        "    validation_set = totaldata.iloc[test_index]\n",
        "\n",
        "    undersample = RandomUnderSampler(sampling_strategy='majority')\n",
        "    X_under, y_under = undersample.fit_resample(training_set, training_set['label'])\n",
        "    X_under, y_under = undersample.fit_resample(X_under, y_under)\n",
        "    X_under, y_under = undersample.fit_resample(X_under, y_under)\n",
        "    X_under, y_under = undersample.fit_resample(X_under, y_under)\n",
        "\n",
        "    resampled_training_set = X_under\n",
        "\n",
        "    train_data_generator = idg.flow_from_dataframe(resampled_training_set, x_col = \"path\", y_col = \"label\", color_mode='rgb',\n",
        "                                                   target_size = (224, 224), class_mode='categorical', batch_size=64, shuffle=True)\n",
        "    valid_data_generator = idg.flow_from_dataframe(validation_set, x_col = \"path\", y_col = \"label\", color_mode='rgb',\n",
        "                                                   target_size = (224, 224), class_mode='categorical', batch_size=64, shuffle=True)\n",
        "\n",
        "\n"
      ]
    },
    {
      "cell_type": "code",
      "execution_count": null,
      "metadata": {
        "id": "HV1U-FHi_KWE"
      },
      "outputs": [],
      "source": [
        "# 잘 됐는지 확인\n",
        "\n",
        "from numpy import unique\n",
        "\n",
        "classes = unique(y_under)\n",
        "total = len(y_under)\n",
        "\n",
        "for c in classes:\n",
        "\tn_examples = len(y_under[y_under==c])\n",
        "\tpercent = n_examples / total * 100\n",
        "\tprint('> Class=%s : %d/%d (%.1f%%)' % (c, n_examples, total, percent))"
      ]
    },
    {
      "cell_type": "markdown",
      "metadata": {
        "id": "8SF6kvnxMqa4"
      },
      "source": []
    },
    {
      "cell_type": "markdown",
      "metadata": {
        "id": "SYBKlyTEM0OK"
      },
      "source": [
        "# Model Fitting"
      ]
    },
    {
      "cell_type": "code",
      "execution_count": null,
      "metadata": {
        "id": "RN7kYWJWxVbO"
      },
      "outputs": [],
      "source": [
        "# 모델 구축\n",
        "model = Sequential()\n",
        "model.add(Convolution2D(32, 3, 3, padding = 'same',\n",
        "    input_shape = X_train.shape[1:]))\n",
        "model.add(Activation('relu'))\n",
        "model.add(MaxPooling2D(pool_size=(2, 2)))\n",
        "model.add(Dropout(0.25))\n",
        "\n",
        "model.add(Convolution2D(64, 3, 3, padding='same'))\n",
        "model.add(Activation('relu'))\n",
        "model.add(Convolution2D(64, 3, 3))\n",
        "model.add(MaxPooling2D(pool_size=(2, 2), strides=(2,2), padding='same'))\n",
        "model.add(Dropout(0.25))\n",
        "\n",
        "model.add(Flatten())\n",
        "model.add(Dense(512))\n",
        "model.add(Activation('relu'))\n",
        "model.add(Dropout(0.5))\n",
        "model.add(Dense(classnumber))\n",
        "model.add(Activation('softmax'))\n",
        "\n",
        "model.compile(loss='categorical_crossentropy',\n",
        "    optimizer='adam',\n",
        "    metrics=['accuracy'])"
      ]
    },
    {
      "cell_type": "code",
      "execution_count": null,
      "metadata": {
        "id": "mPCyX3ZAOvN_"
      },
      "outputs": [],
      "source": [
        "# 모델 훈련\n",
        "model.fit(X_train, y_train, batch_size=32, epochs=20)\n",
        "    \n",
        "# 모델 평가\n",
        "score = model.evaluate(X_test, y_test)\n",
        "print('loss=', score[0])\n",
        "print('accuracy=', score[1])"
      ]
    },
    {
      "cell_type": "markdown",
      "metadata": {
        "id": "jSCZ8kDDOFON"
      },
      "source": [
        "# Calculating F1 Score"
      ]
    },
    {
      "cell_type": "code",
      "execution_count": null,
      "metadata": {
        "id": "6EHVRygLOIRX"
      },
      "outputs": [],
      "source": [
        "pre = model.predict(X_test)\n",
        "\n",
        "for i,v in enumerate(pre):\n",
        "    pre_ans = v.argmax()\n",
        "    ans = y_test[i].argmax()\n",
        "    dat = X_test[i]\n",
        "    if ans == pre_ans: continue\n",
        "    print(\"[NG]\", class_list[pre_ans], \"!=\", class_list[ans])\n",
        "    print(v)"
      ]
    },
    {
      "cell_type": "code",
      "execution_count": null,
      "metadata": {
        "id": "mALbyIRUOyZy"
      },
      "outputs": [],
      "source": [
        "    \n",
        "    #이미지 출력하기\n",
        "    fname = \"image/error/\" + str(i) + \"-\" + class_list[pre_ans] + \\\n",
        "        \"-ne-\" + class_list[ans] + \".png\"\n",
        "    dat *= 256\n",
        "    img = Image.fromarray(np.uint8(dat))\n",
        "    img.save(fname)"
      ]
    },
    {
      "cell_type": "markdown",
      "metadata": {
        "id": "ijDmdQwsK54T"
      },
      "source": [
        "# dd"
      ]
    },
    {
      "cell_type": "code",
      "execution_count": null,
      "metadata": {
        "colab": {
          "base_uri": "https://localhost:8080/",
          "height": 321
        },
        "id": "fyJSvHQWLCZ_",
        "outputId": "4f62e8e3-505b-466f-e758-9fdaa56cc97c"
      },
      "outputs": [
        {
          "ename": "ImportError",
          "evalue": "ignored",
          "output_type": "error",
          "traceback": [
            "\u001b[0;31m---------------------------------------------------------------------------\u001b[0m",
            "\u001b[0;31mImportError\u001b[0m                               Traceback (most recent call last)",
            "\u001b[0;32m<ipython-input-111-899f89a0b6b1>\u001b[0m in \u001b[0;36m<module>\u001b[0;34m\u001b[0m\n\u001b[0;32m----> 1\u001b[0;31m \u001b[0;32mfrom\u001b[0m \u001b[0mkeras\u001b[0m\u001b[0;34m.\u001b[0m\u001b[0mpreprocessing\u001b[0m\u001b[0;34m.\u001b[0m\u001b[0mimage\u001b[0m \u001b[0;32mimport\u001b[0m \u001b[0mImageDataGenerator\u001b[0m\u001b[0;34m,\u001b[0m \u001b[0marray_to_img\u001b[0m\u001b[0;34m,\u001b[0m \u001b[0mimg_to_array\u001b[0m\u001b[0;34m,\u001b[0m \u001b[0mload_img\u001b[0m\u001b[0;34m\u001b[0m\u001b[0;34m\u001b[0m\u001b[0m\n\u001b[0m",
            "\u001b[0;31mImportError\u001b[0m: cannot import name 'array_to_img' from 'keras.preprocessing.image' (/usr/local/lib/python3.7/dist-packages/keras/preprocessing/image.py)",
            "",
            "\u001b[0;31m---------------------------------------------------------------------------\u001b[0;32m\nNOTE: If your import is failing due to a missing package, you can\nmanually install dependencies using either !pip or !apt.\n\nTo view examples of installing some common dependencies, click the\n\"Open Examples\" button below.\n\u001b[0;31m---------------------------------------------------------------------------\u001b[0m\n"
          ]
        }
      ],
      "source": [
        "from keras.preprocessing.image import ImageDataGenerator, img_to_array, load_img"
      ]
    },
    {
      "cell_type": "code",
      "execution_count": null,
      "metadata": {
        "colab": {
          "base_uri": "https://localhost:8080/"
        },
        "id": "gNQDok4sK4Uy",
        "outputId": "47096374-6b25-4d97-d257-ae9fac96b27c"
      },
      "outputs": [
        {
          "name": "stdout",
          "output_type": "stream",
          "text": [
            "Model: \"sequential_2\"\n",
            "_________________________________________________________________\n",
            " Layer (type)                Output Shape              Param #   \n",
            "=================================================================\n",
            " conv2d_34 (Conv2D)          (None, 224, 224, 16)      448       \n",
            "                                                                 \n",
            " activation_10 (Activation)  (None, 224, 224, 16)      0         \n",
            "                                                                 \n",
            " max_pooling2d_4 (MaxPooling  (None, 112, 112, 16)     0         \n",
            " 2D)                                                             \n",
            "                                                                 \n",
            " conv2d_35 (Conv2D)          (None, 112, 112, 2)       290       \n",
            "                                                                 \n",
            " activation_11 (Activation)  (None, 112, 112, 2)       0         \n",
            "                                                                 \n",
            " max_pooling2d_5 (MaxPooling  (None, 56, 56, 2)        0         \n",
            " 2D)                                                             \n",
            "                                                                 \n",
            " conv2d_36 (Conv2D)          (None, 56, 56, 2)         38        \n",
            "                                                                 \n",
            " activation_12 (Activation)  (None, 56, 56, 2)         0         \n",
            "                                                                 \n",
            " up_sampling2d_4 (UpSampling  (None, 112, 112, 2)      0         \n",
            " 2D)                                                             \n",
            "                                                                 \n",
            " conv2d_37 (Conv2D)          (None, 112, 112, 16)      304       \n",
            "                                                                 \n",
            " activation_13 (Activation)  (None, 112, 112, 16)      0         \n",
            "                                                                 \n",
            " up_sampling2d_5 (UpSampling  (None, 224, 224, 16)     0         \n",
            " 2D)                                                             \n",
            "                                                                 \n",
            " conv2d_38 (Conv2D)          (None, 224, 224, 3)       435       \n",
            "                                                                 \n",
            " activation_14 (Activation)  (None, 224, 224, 3)       0         \n",
            "                                                                 \n",
            "=================================================================\n",
            "Total params: 1,515\n",
            "Trainable params: 1,515\n",
            "Non-trainable params: 0\n",
            "_________________________________________________________________\n"
          ]
        }
      ],
      "source": [
        "import keras\n",
        "from keras.datasets import mnist\n",
        "from keras.models import Sequential\n",
        "from keras.layers import Dense, Activation, Flatten, Input\n",
        "from keras.layers import Conv2D, MaxPooling2D, UpSampling2D\n",
        "import matplotlib.pyplot as plt\n",
        "from keras import backend as K\n",
        "import numpy as np\n",
        "from tensorflow.keras.preprocessing.image import ImageDataGenerator, array_to_img, img_to_array, load_img\n",
        "\n",
        "# Define the model\n",
        "model = Sequential()\n",
        "\n",
        "#1st convolution layer\n",
        "model.add(Conv2D(16, (3, 3), padding='same', input_shape=(224,224,3)))\n",
        "model.add(Activation('relu'))\n",
        "model.add(MaxPooling2D(pool_size=(2,2), padding='same'))\n",
        "\n",
        "#2nd convolution layer\n",
        "model.add(Conv2D(2,(3, 3), padding='same'))\n",
        "model.add(Activation('relu'))\n",
        "model.add(MaxPooling2D(pool_size=(2,2), padding='same'))\n",
        "#-------------------------\n",
        "#3rd convolution layer\n",
        "model.add(Conv2D(2,(3, 3), padding='same'))\n",
        "model.add(Activation('relu'))\n",
        "model.add(UpSampling2D((2, 2)))\n",
        "\n",
        "#4rd convolution layer\n",
        "model.add(Conv2D(16,(3, 3), padding='same'))\n",
        "model.add(Activation('relu'))\n",
        "model.add(UpSampling2D((2, 2)))\n",
        "\n",
        "#-------------------------\n",
        "\n",
        "model.add(Conv2D(3,(3, 3), padding='same'))\n",
        "model.add(Activation('sigmoid'))\n",
        "\n",
        "model.summary()\n",
        "\n",
        "# Compile the model\n",
        "model.compile(optimizer='adam', loss='mse')"
      ]
    },
    {
      "cell_type": "code",
      "execution_count": null,
      "metadata": {
        "colab": {
          "base_uri": "https://localhost:8080/",
          "height": 400
        },
        "id": "A8XgCHgxweTf",
        "outputId": "f3629873-6520-416e-ac87-1eb194f6a669"
      },
      "outputs": [
        {
          "name": "stdout",
          "output_type": "stream",
          "text": [
            "Epoch 1/20\n",
            " 2/15 [===>..........................] - ETA: 3:24 - loss: 0.2415"
          ]
        },
        {
          "ename": "KeyboardInterrupt",
          "evalue": "ignored",
          "output_type": "error",
          "traceback": [
            "\u001b[0;31m---------------------------------------------------------------------------\u001b[0m",
            "\u001b[0;31mKeyboardInterrupt\u001b[0m                         Traceback (most recent call last)",
            "\u001b[0;32m<ipython-input-127-72492eeea797>\u001b[0m in \u001b[0;36m<module>\u001b[0;34m\u001b[0m\n\u001b[1;32m      4\u001b[0m         \u001b[0mepochs\u001b[0m\u001b[0;34m=\u001b[0m\u001b[0;36m20\u001b[0m\u001b[0;34m,\u001b[0m\u001b[0;34m\u001b[0m\u001b[0;34m\u001b[0m\u001b[0m\n\u001b[1;32m      5\u001b[0m         \u001b[0mvalidation_data\u001b[0m\u001b[0;34m=\u001b[0m\u001b[0mvalidation_data_generator\u001b[0m\u001b[0;34m,\u001b[0m\u001b[0;34m\u001b[0m\u001b[0;34m\u001b[0m\u001b[0m\n\u001b[0;32m----> 6\u001b[0;31m         validation_steps=1000 // BATCH_SIZE)\n\u001b[0m",
            "\u001b[0;32m/usr/local/lib/python3.7/dist-packages/keras/utils/traceback_utils.py\u001b[0m in \u001b[0;36merror_handler\u001b[0;34m(*args, **kwargs)\u001b[0m\n\u001b[1;32m     62\u001b[0m     \u001b[0mfiltered_tb\u001b[0m \u001b[0;34m=\u001b[0m \u001b[0;32mNone\u001b[0m\u001b[0;34m\u001b[0m\u001b[0;34m\u001b[0m\u001b[0m\n\u001b[1;32m     63\u001b[0m     \u001b[0;32mtry\u001b[0m\u001b[0;34m:\u001b[0m\u001b[0;34m\u001b[0m\u001b[0;34m\u001b[0m\u001b[0m\n\u001b[0;32m---> 64\u001b[0;31m       \u001b[0;32mreturn\u001b[0m \u001b[0mfn\u001b[0m\u001b[0;34m(\u001b[0m\u001b[0;34m*\u001b[0m\u001b[0margs\u001b[0m\u001b[0;34m,\u001b[0m \u001b[0;34m**\u001b[0m\u001b[0mkwargs\u001b[0m\u001b[0;34m)\u001b[0m\u001b[0;34m\u001b[0m\u001b[0;34m\u001b[0m\u001b[0m\n\u001b[0m\u001b[1;32m     65\u001b[0m     \u001b[0;32mexcept\u001b[0m \u001b[0mException\u001b[0m \u001b[0;32mas\u001b[0m \u001b[0me\u001b[0m\u001b[0;34m:\u001b[0m  \u001b[0;31m# pylint: disable=broad-except\u001b[0m\u001b[0;34m\u001b[0m\u001b[0;34m\u001b[0m\u001b[0m\n\u001b[1;32m     66\u001b[0m       \u001b[0mfiltered_tb\u001b[0m \u001b[0;34m=\u001b[0m \u001b[0m_process_traceback_frames\u001b[0m\u001b[0;34m(\u001b[0m\u001b[0me\u001b[0m\u001b[0;34m.\u001b[0m\u001b[0m__traceback__\u001b[0m\u001b[0;34m)\u001b[0m\u001b[0;34m\u001b[0m\u001b[0;34m\u001b[0m\u001b[0m\n",
            "\u001b[0;32m/usr/local/lib/python3.7/dist-packages/keras/engine/training.py\u001b[0m in \u001b[0;36mfit\u001b[0;34m(self, x, y, batch_size, epochs, verbose, callbacks, validation_split, validation_data, shuffle, class_weight, sample_weight, initial_epoch, steps_per_epoch, validation_steps, validation_batch_size, validation_freq, max_queue_size, workers, use_multiprocessing)\u001b[0m\n\u001b[1;32m   1370\u001b[0m           \u001b[0muse_multiprocessing\u001b[0m\u001b[0;34m=\u001b[0m\u001b[0muse_multiprocessing\u001b[0m\u001b[0;34m,\u001b[0m\u001b[0;34m\u001b[0m\u001b[0;34m\u001b[0m\u001b[0m\n\u001b[1;32m   1371\u001b[0m           \u001b[0mmodel\u001b[0m\u001b[0;34m=\u001b[0m\u001b[0mself\u001b[0m\u001b[0;34m,\u001b[0m\u001b[0;34m\u001b[0m\u001b[0;34m\u001b[0m\u001b[0m\n\u001b[0;32m-> 1372\u001b[0;31m           steps_per_execution=self._steps_per_execution)\n\u001b[0m\u001b[1;32m   1373\u001b[0m \u001b[0;34m\u001b[0m\u001b[0m\n\u001b[1;32m   1374\u001b[0m       \u001b[0;31m# Container that configures and calls `tf.keras.Callback`s.\u001b[0m\u001b[0;34m\u001b[0m\u001b[0;34m\u001b[0m\u001b[0;34m\u001b[0m\u001b[0m\n",
            "\u001b[0;32m/usr/local/lib/python3.7/dist-packages/tensorflow/python/util/traceback_utils.py\u001b[0m in \u001b[0;36merror_handler\u001b[0;34m(*args, **kwargs)\u001b[0m\n\u001b[1;32m    148\u001b[0m     \u001b[0mfiltered_tb\u001b[0m \u001b[0;34m=\u001b[0m \u001b[0;32mNone\u001b[0m\u001b[0;34m\u001b[0m\u001b[0;34m\u001b[0m\u001b[0m\n\u001b[1;32m    149\u001b[0m     \u001b[0;32mtry\u001b[0m\u001b[0;34m:\u001b[0m\u001b[0;34m\u001b[0m\u001b[0;34m\u001b[0m\u001b[0m\n\u001b[0;32m--> 150\u001b[0;31m       \u001b[0;32mreturn\u001b[0m \u001b[0mfn\u001b[0m\u001b[0;34m(\u001b[0m\u001b[0;34m*\u001b[0m\u001b[0margs\u001b[0m\u001b[0;34m,\u001b[0m \u001b[0;34m**\u001b[0m\u001b[0mkwargs\u001b[0m\u001b[0;34m)\u001b[0m\u001b[0;34m\u001b[0m\u001b[0;34m\u001b[0m\u001b[0m\n\u001b[0m\u001b[1;32m    151\u001b[0m     \u001b[0;32mexcept\u001b[0m \u001b[0mException\u001b[0m \u001b[0;32mas\u001b[0m \u001b[0me\u001b[0m\u001b[0;34m:\u001b[0m\u001b[0;34m\u001b[0m\u001b[0;34m\u001b[0m\u001b[0m\n\u001b[1;32m    152\u001b[0m       \u001b[0mfiltered_tb\u001b[0m \u001b[0;34m=\u001b[0m \u001b[0m_process_traceback_frames\u001b[0m\u001b[0;34m(\u001b[0m\u001b[0me\u001b[0m\u001b[0;34m.\u001b[0m\u001b[0m__traceback__\u001b[0m\u001b[0;34m)\u001b[0m\u001b[0;34m\u001b[0m\u001b[0;34m\u001b[0m\u001b[0m\n",
            "\u001b[0;32m/usr/local/lib/python3.7/dist-packages/tensorflow/python/eager/def_function.py\u001b[0m in \u001b[0;36m__call__\u001b[0;34m(self, *args, **kwds)\u001b[0m\n\u001b[1;32m    913\u001b[0m \u001b[0;34m\u001b[0m\u001b[0m\n\u001b[1;32m    914\u001b[0m       \u001b[0;32mwith\u001b[0m \u001b[0mOptionalXlaContext\u001b[0m\u001b[0;34m(\u001b[0m\u001b[0mself\u001b[0m\u001b[0;34m.\u001b[0m\u001b[0m_jit_compile\u001b[0m\u001b[0;34m)\u001b[0m\u001b[0;34m:\u001b[0m\u001b[0;34m\u001b[0m\u001b[0;34m\u001b[0m\u001b[0m\n\u001b[0;32m--> 915\u001b[0;31m         \u001b[0mresult\u001b[0m \u001b[0;34m=\u001b[0m \u001b[0mself\u001b[0m\u001b[0;34m.\u001b[0m\u001b[0m_call\u001b[0m\u001b[0;34m(\u001b[0m\u001b[0;34m*\u001b[0m\u001b[0margs\u001b[0m\u001b[0;34m,\u001b[0m \u001b[0;34m**\u001b[0m\u001b[0mkwds\u001b[0m\u001b[0;34m)\u001b[0m\u001b[0;34m\u001b[0m\u001b[0;34m\u001b[0m\u001b[0m\n\u001b[0m\u001b[1;32m    916\u001b[0m \u001b[0;34m\u001b[0m\u001b[0m\n\u001b[1;32m    917\u001b[0m       \u001b[0mnew_tracing_count\u001b[0m \u001b[0;34m=\u001b[0m \u001b[0mself\u001b[0m\u001b[0;34m.\u001b[0m\u001b[0mexperimental_get_tracing_count\u001b[0m\u001b[0;34m(\u001b[0m\u001b[0;34m)\u001b[0m\u001b[0;34m\u001b[0m\u001b[0;34m\u001b[0m\u001b[0m\n",
            "\u001b[0;32m/usr/local/lib/python3.7/dist-packages/tensorflow/python/eager/def_function.py\u001b[0m in \u001b[0;36m_call\u001b[0;34m(self, *args, **kwds)\u001b[0m\n\u001b[1;32m    945\u001b[0m       \u001b[0;31m# In this case we have created variables on the first call, so we run the\u001b[0m\u001b[0;34m\u001b[0m\u001b[0;34m\u001b[0m\u001b[0;34m\u001b[0m\u001b[0m\n\u001b[1;32m    946\u001b[0m       \u001b[0;31m# defunned version which is guaranteed to never create variables.\u001b[0m\u001b[0;34m\u001b[0m\u001b[0;34m\u001b[0m\u001b[0;34m\u001b[0m\u001b[0m\n\u001b[0;32m--> 947\u001b[0;31m       \u001b[0;32mreturn\u001b[0m \u001b[0mself\u001b[0m\u001b[0;34m.\u001b[0m\u001b[0m_stateless_fn\u001b[0m\u001b[0;34m(\u001b[0m\u001b[0;34m*\u001b[0m\u001b[0margs\u001b[0m\u001b[0;34m,\u001b[0m \u001b[0;34m**\u001b[0m\u001b[0mkwds\u001b[0m\u001b[0;34m)\u001b[0m  \u001b[0;31m# pylint: disable=not-callable\u001b[0m\u001b[0;34m\u001b[0m\u001b[0;34m\u001b[0m\u001b[0m\n\u001b[0m\u001b[1;32m    948\u001b[0m     \u001b[0;32melif\u001b[0m \u001b[0mself\u001b[0m\u001b[0;34m.\u001b[0m\u001b[0m_stateful_fn\u001b[0m \u001b[0;32mis\u001b[0m \u001b[0;32mnot\u001b[0m \u001b[0;32mNone\u001b[0m\u001b[0;34m:\u001b[0m\u001b[0;34m\u001b[0m\u001b[0;34m\u001b[0m\u001b[0m\n\u001b[1;32m    949\u001b[0m       \u001b[0;31m# Release the lock early so that multiple threads can perform the call\u001b[0m\u001b[0;34m\u001b[0m\u001b[0;34m\u001b[0m\u001b[0;34m\u001b[0m\u001b[0m\n",
            "\u001b[0;32m/usr/local/lib/python3.7/dist-packages/tensorflow/python/eager/function.py\u001b[0m in \u001b[0;36m__call__\u001b[0;34m(self, *args, **kwargs)\u001b[0m\n\u001b[1;32m   2452\u001b[0m        filtered_flat_args) = self._maybe_define_function(args, kwargs)\n\u001b[1;32m   2453\u001b[0m     return graph_function._call_flat(\n\u001b[0;32m-> 2454\u001b[0;31m         filtered_flat_args, captured_inputs=graph_function.captured_inputs)  # pylint: disable=protected-access\n\u001b[0m\u001b[1;32m   2455\u001b[0m \u001b[0;34m\u001b[0m\u001b[0m\n\u001b[1;32m   2456\u001b[0m   \u001b[0;34m@\u001b[0m\u001b[0mproperty\u001b[0m\u001b[0;34m\u001b[0m\u001b[0;34m\u001b[0m\u001b[0m\n",
            "\u001b[0;32m/usr/local/lib/python3.7/dist-packages/tensorflow/python/eager/function.py\u001b[0m in \u001b[0;36m_call_flat\u001b[0;34m(self, args, captured_inputs, cancellation_manager)\u001b[0m\n\u001b[1;32m   1859\u001b[0m       \u001b[0;31m# No tape is watching; skip to running the function.\u001b[0m\u001b[0;34m\u001b[0m\u001b[0;34m\u001b[0m\u001b[0;34m\u001b[0m\u001b[0m\n\u001b[1;32m   1860\u001b[0m       return self._build_call_outputs(self._inference_function.call(\n\u001b[0;32m-> 1861\u001b[0;31m           ctx, args, cancellation_manager=cancellation_manager))\n\u001b[0m\u001b[1;32m   1862\u001b[0m     forward_backward = self._select_forward_and_backward_functions(\n\u001b[1;32m   1863\u001b[0m         \u001b[0margs\u001b[0m\u001b[0;34m,\u001b[0m\u001b[0;34m\u001b[0m\u001b[0;34m\u001b[0m\u001b[0m\n",
            "\u001b[0;32m/usr/local/lib/python3.7/dist-packages/tensorflow/python/eager/function.py\u001b[0m in \u001b[0;36mcall\u001b[0;34m(self, ctx, args, cancellation_manager)\u001b[0m\n\u001b[1;32m    500\u001b[0m               \u001b[0minputs\u001b[0m\u001b[0;34m=\u001b[0m\u001b[0margs\u001b[0m\u001b[0;34m,\u001b[0m\u001b[0;34m\u001b[0m\u001b[0;34m\u001b[0m\u001b[0m\n\u001b[1;32m    501\u001b[0m               \u001b[0mattrs\u001b[0m\u001b[0;34m=\u001b[0m\u001b[0mattrs\u001b[0m\u001b[0;34m,\u001b[0m\u001b[0;34m\u001b[0m\u001b[0;34m\u001b[0m\u001b[0m\n\u001b[0;32m--> 502\u001b[0;31m               ctx=ctx)\n\u001b[0m\u001b[1;32m    503\u001b[0m         \u001b[0;32melse\u001b[0m\u001b[0;34m:\u001b[0m\u001b[0;34m\u001b[0m\u001b[0;34m\u001b[0m\u001b[0m\n\u001b[1;32m    504\u001b[0m           outputs = execute.execute_with_cancellation(\n",
            "\u001b[0;32m/usr/local/lib/python3.7/dist-packages/tensorflow/python/eager/execute.py\u001b[0m in \u001b[0;36mquick_execute\u001b[0;34m(op_name, num_outputs, inputs, attrs, ctx, name)\u001b[0m\n\u001b[1;32m     53\u001b[0m     \u001b[0mctx\u001b[0m\u001b[0;34m.\u001b[0m\u001b[0mensure_initialized\u001b[0m\u001b[0;34m(\u001b[0m\u001b[0;34m)\u001b[0m\u001b[0;34m\u001b[0m\u001b[0;34m\u001b[0m\u001b[0m\n\u001b[1;32m     54\u001b[0m     tensors = pywrap_tfe.TFE_Py_Execute(ctx._handle, device_name, op_name,\n\u001b[0;32m---> 55\u001b[0;31m                                         inputs, attrs, num_outputs)\n\u001b[0m\u001b[1;32m     56\u001b[0m   \u001b[0;32mexcept\u001b[0m \u001b[0mcore\u001b[0m\u001b[0;34m.\u001b[0m\u001b[0m_NotOkStatusException\u001b[0m \u001b[0;32mas\u001b[0m \u001b[0me\u001b[0m\u001b[0;34m:\u001b[0m\u001b[0;34m\u001b[0m\u001b[0;34m\u001b[0m\u001b[0m\n\u001b[1;32m     57\u001b[0m     \u001b[0;32mif\u001b[0m \u001b[0mname\u001b[0m \u001b[0;32mis\u001b[0m \u001b[0;32mnot\u001b[0m \u001b[0;32mNone\u001b[0m\u001b[0;34m:\u001b[0m\u001b[0;34m\u001b[0m\u001b[0;34m\u001b[0m\u001b[0m\n",
            "\u001b[0;31mKeyboardInterrupt\u001b[0m: "
          ]
        }
      ],
      "source": [
        "model.fit(\n",
        "        train_data_generator,\n",
        "        steps_per_epoch=1000 // BATCH_SIZE,\n",
        "        epochs=20,\n",
        "        validation_data=validation_data_generator,\n",
        "        validation_steps=1000 // BATCH_SIZE)"
      ]
    },
    {
      "cell_type": "code",
      "execution_count": null,
      "metadata": {
        "id": "0pbJnkK8xIUG"
      },
      "outputs": [],
      "source": [
        "from tensorflow.keras.preprocessing.image import ImageDataGenerator\n",
        "from sklearn.model_selection import train_test_split\n",
        "\n",
        "idg = ImageDataGenerator(rescale = 1./255, data_format='channels_last', horizontal_flip = True)\n",
        "idg2 = ImageDataGenerator(rescale = 1./255, data_format='channels_last')"
      ]
    },
    {
      "cell_type": "code",
      "execution_count": null,
      "metadata": {
        "id": "szZT9qP4x2KI"
      },
      "outputs": [],
      "source": [
        "from imblearn.under_sampling import RandomUnderSampler \n",
        "finaldata = finaldata.astype({'label' : 'int64'})\n",
        "X_train, X_test, y_train, y_test = train_test_split(finaldata, finaldata['label'])"
      ]
    },
    {
      "cell_type": "code",
      "execution_count": null,
      "metadata": {
        "colab": {
          "base_uri": "https://localhost:8080/"
        },
        "id": "Jv7lPUOzxI1t",
        "outputId": "3038a6fa-b06e-4b55-b8d2-81c53fc20f17"
      },
      "outputs": [
        {
          "name": "stdout",
          "output_type": "stream",
          "text": [
            "Found 17882 validated image filenames.\n",
            "Found 5961 validated image filenames.\n"
          ]
        }
      ],
      "source": [
        "X_train = X_train.astype({'label' : 'str'})\n",
        "X_test = X_test.astype({'label' : 'str'})\n",
        "\n",
        "train_data_generator = idg.flow_from_dataframe(X_train, x_col = \"path\", y_col = \"label\", color_mode='rgb',\n",
        "                                                target_size = (224, 224), class_mode='input', batch_size=64, shuffle=True)\n",
        "validation_data_generator = idg2.flow_from_dataframe(X_test, x_col = \"path\", y_col = \"label\", color_mode='rgb',\n",
        "                                                target_size = (224, 224), class_mode='input', batch_size=64, shuffle=True)"
      ]
    },
    {
      "cell_type": "code",
      "execution_count": null,
      "metadata": {
        "id": "dgCm7Dhtx9nd"
      },
      "outputs": [],
      "source": []
    }
  ],
  "metadata": {
    "accelerator": "GPU",
    "colab": {
      "collapsed_sections": [],
      "provenance": [],
      "include_colab_link": true
    },
    "kernelspec": {
      "display_name": "Python 3",
      "name": "python3"
    },
    "language_info": {
      "name": "python"
    }
  },
  "nbformat": 4,
  "nbformat_minor": 0
}